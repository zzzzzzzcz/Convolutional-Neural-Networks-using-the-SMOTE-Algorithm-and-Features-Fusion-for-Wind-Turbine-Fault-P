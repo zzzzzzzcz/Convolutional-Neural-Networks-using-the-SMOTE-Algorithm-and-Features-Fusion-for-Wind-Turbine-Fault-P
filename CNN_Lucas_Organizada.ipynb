{
  "cells": [
    {
      "cell_type": "markdown",
      "metadata": {
        "id": "view-in-github",
        "colab_type": "text"
      },
      "source": [
        "<a href=\"https://colab.research.google.com/github/zzzzzzzcz/Convolutional-Neural-Networks-using-the-SMOTE-Algorithm-and-Features-Fusion-for-Wind-Turbine-Fault-P/blob/main/CNN_Lucas_Organizada.ipynb\" target=\"_parent\"><img src=\"https://colab.research.google.com/assets/colab-badge.svg\" alt=\"Open In Colab\"/></a>"
      ]
    },
    {
      "cell_type": "code",
      "execution_count": null,
      "metadata": {
        "colab": {
          "base_uri": "https://localhost:8080/"
        },
        "id": "ShVUyeONd5_P",
        "outputId": "c3dfcaa3-a9de-4ece-9b20-0a44f2fe41c6"
      },
      "outputs": [
        {
          "name": "stdout",
          "output_type": "stream",
          "text": [
            "Mounted at /content/drive\n"
          ]
        }
      ],
      "source": [
        "from google.colab import drive\n",
        "drive.mount('/content/drive')\n",
        "\n"
      ]
    },
    {
      "cell_type": "code",
      "execution_count": null,
      "metadata": {
        "colab": {
          "base_uri": "https://localhost:8080/"
        },
        "id": "hUFhojIuvC_W",
        "outputId": "bf322d37-1bdd-4c2b-d3a9-14fb12e9fa13"
      },
      "outputs": [
        {
          "name": "stdout",
          "output_type": "stream",
          "text": [
            "Collecting pyts\n",
            "  Downloading pyts-0.12.0-py3-none-any.whl (2.5 MB)\n",
            "\u001b[K     |████████████████████████████████| 2.5 MB 5.4 MB/s \n",
            "\u001b[?25hRequirement already satisfied: scipy>=1.3.0 in /usr/local/lib/python3.7/dist-packages (from pyts) (1.4.1)\n",
            "Requirement already satisfied: numba>=0.48.0 in /usr/local/lib/python3.7/dist-packages (from pyts) (0.51.2)\n",
            "Requirement already satisfied: numpy>=1.17.5 in /usr/local/lib/python3.7/dist-packages (from pyts) (1.19.5)\n",
            "Requirement already satisfied: scikit-learn>=0.22.1 in /usr/local/lib/python3.7/dist-packages (from pyts) (1.0.1)\n",
            "Requirement already satisfied: joblib>=0.12 in /usr/local/lib/python3.7/dist-packages (from pyts) (1.1.0)\n",
            "Requirement already satisfied: llvmlite<0.35,>=0.34.0.dev0 in /usr/local/lib/python3.7/dist-packages (from numba>=0.48.0->pyts) (0.34.0)\n",
            "Requirement already satisfied: setuptools in /usr/local/lib/python3.7/dist-packages (from numba>=0.48.0->pyts) (57.4.0)\n",
            "Requirement already satisfied: threadpoolctl>=2.0.0 in /usr/local/lib/python3.7/dist-packages (from scikit-learn>=0.22.1->pyts) (3.0.0)\n",
            "Installing collected packages: pyts\n",
            "Successfully installed pyts-0.12.0\n"
          ]
        }
      ],
      "source": [
        "!pip install pyts"
      ]
    },
    {
      "cell_type": "code",
      "execution_count": null,
      "metadata": {
        "id": "I6dN1FciMgxr"
      },
      "outputs": [],
      "source": [
        "import math\n",
        "from sklearn.metrics import confusion_matrix, classification_report\n",
        "from sklearn.metrics import confusion_matrix\n",
        "from sklearn import svm"
      ]
    },
    {
      "cell_type": "code",
      "execution_count": null,
      "metadata": {
        "id": "VZqLqnaVvmHe"
      },
      "outputs": [],
      "source": [
        "import matplotlib.pyplot as plt\n",
        "from mpl_toolkits.axes_grid1 import ImageGrid\n",
        "from pyts.image import GramianAngularField\n",
        "from pyts.datasets import load_gunpoint\n",
        "import matplotlib.pyplot as plt\n",
        "from pyts.image import MarkovTransitionField\n",
        "from tensorflow.keras.utils import to_categorical"
      ]
    },
    {
      "cell_type": "code",
      "execution_count": null,
      "metadata": {
        "colab": {
          "base_uri": "https://localhost:8080/"
        },
        "id": "tlP9yQhtHGIw",
        "outputId": "ca21c8d0-93fc-4532-8f7e-e1d7ef7846bb"
      },
      "outputs": [
        {
          "name": "stdout",
          "output_type": "stream",
          "text": [
            "0.8.1\n"
          ]
        }
      ],
      "source": [
        "import imblearn\n",
        "from imblearn.over_sampling import SMOTE\n",
        "from imblearn.over_sampling import RandomOverSampler\n",
        "from imblearn.over_sampling import ADASYN\n",
        "from imblearn.under_sampling import NearMiss\n",
        "print(imblearn.__version__)"
      ]
    },
    {
      "cell_type": "code",
      "execution_count": null,
      "metadata": {
        "id": "xAbRwVtj81d1"
      },
      "outputs": [],
      "source": [
        "from sklearn import datasets\n",
        "from sklearn.ensemble import AdaBoostClassifier,VotingClassifier\n",
        "from sklearn.tree import DecisionTreeClassifier\n",
        "from sklearn.svm import SVC\n",
        "import tensorflow as tf\n",
        "from tensorflow.keras.preprocessing import image\n",
        "import numpy as np\n",
        "import keras\n",
        "from tensorflow.keras.callbacks import EarlyStopping\n"
      ]
    },
    {
      "cell_type": "code",
      "execution_count": null,
      "metadata": {
        "id": "obNuw09dejmv"
      },
      "outputs": [],
      "source": [
        "import numpy as np\n",
        "import matplotlib.pyplot as plt\n",
        "from matplotlib.colors import ListedColormap\n",
        "from sklearn.model_selection import train_test_split\n",
        "from sklearn.preprocessing import StandardScaler\n",
        "from sklearn.datasets import make_moons, make_circles, make_classification\n",
        "from sklearn.neural_network import MLPClassifier\n",
        "from sklearn.neighbors import KNeighborsClassifier\n",
        "from sklearn.svm import SVC\n",
        "from sklearn.gaussian_process import GaussianProcessClassifier\n",
        "from sklearn.gaussian_process.kernels import RBF\n",
        "from sklearn.tree import DecisionTreeClassifier\n",
        "from sklearn.ensemble import RandomForestClassifier, AdaBoostClassifier\n",
        "from sklearn.naive_bayes import GaussianNB\n",
        "from sklearn.discriminant_analysis import QuadraticDiscriminantAnalysis"
      ]
    },
    {
      "cell_type": "code",
      "execution_count": null,
      "metadata": {
        "id": "73iKcz6pYyaf"
      },
      "outputs": [],
      "source": [
        "import math\n",
        "import pandas as pd\n",
        "import matplotlib.pyplot as plt\n",
        "import seaborn as sns\n",
        "import cmath\n",
        "import pandas as pd\n",
        "import numpy as np\n",
        "import matplotlib.pyplot as plt\n",
        "from sklearn.preprocessing import MinMaxScaler\n",
        "from sklearn.model_selection import train_test_split\n",
        "from sklearn.metrics import accuracy_score\n",
        "from sklearn.model_selection import GridSearchCV\n",
        "from sklearn.svm import SVC\n",
        "from sklearn.decomposition import PCA\n",
        "from sklearn.metrics import confusion_matrix, classification_report\n",
        "from sklearn.discriminant_analysis import LinearDiscriminantAnalysis\n",
        "from sklearn.metrics import confusion_matrix\n",
        "import cv2"
      ]
    },
    {
      "cell_type": "code",
      "execution_count": null,
      "metadata": {
        "id": "FgDKngoMeLCB"
      },
      "outputs": [],
      "source": [
        "cols95 = np.arange(1, 86+2,1)\n",
        "cols96 = np.arange(1, 184 +2,1)\n",
        "cols97 = np.arange(1, 196 +2,1)\n",
        "cols98 = np.arange(1, 74 +2,1)\n",
        "cols99 = np.arange(1, 203 +2,1)\n",
        "colsnormal = np.arange(1, 202 +2,1)\n",
        "cols101 = np.arange(1, 78 +2,1)\n",
        "cols102 = np.arange(1, 189 +2,1)\n",
        "cols103 = np.arange(1,  79+2,1)\n",
        "cols104 = np.arange(1, 88 +2,1)\n",
        "cols105 = np.arange(1, 184 +2,1)\n",
        "finalcols = np.arange(1, 1+2,1)"
      ]
    },
    {
      "cell_type": "code",
      "execution_count": null,
      "metadata": {
        "id": "zDeyYi_kecqz"
      },
      "outputs": [],
      "source": [
        "data95 = pd.read_csv(r'/content/drive/My Drive/Dados/PSD data/psd_95.csv',header=0, sep=';', usecols=cols95)\n",
        "data95 = data95.transpose()"
      ]
    },
    {
      "cell_type": "code",
      "execution_count": null,
      "metadata": {
        "id": "iOtfbzPwiLuo"
      },
      "outputs": [],
      "source": [
        "data96 = pd.read_csv(r'/content/drive/My Drive/Dados/PSD data/psd_96.csv',header=0, sep=';', usecols=cols96)\n",
        "data96 = data96.transpose()"
      ]
    },
    {
      "cell_type": "code",
      "execution_count": null,
      "metadata": {
        "id": "pbSEJ3ov77S-"
      },
      "outputs": [],
      "source": [
        "data103 = pd.read_csv(r'/content/drive/My Drive/Dados/PSD data/psd_103.csv',header=0, sep=';', usecols=cols103)\n",
        "data103 = data103.transpose()"
      ]
    },
    {
      "cell_type": "code",
      "execution_count": null,
      "metadata": {
        "id": "1G9DaeFRiS4x"
      },
      "outputs": [],
      "source": [
        "data104 = pd.read_csv(r'/content/drive/My Drive/Dados/PSD data/psd_104.csv',header=0, sep=';', usecols=cols104)\n",
        "data104 = data104.transpose()"
      ]
    },
    {
      "cell_type": "code",
      "execution_count": null,
      "metadata": {
        "id": "bsTUqoHSX0aw"
      },
      "outputs": [],
      "source": [
        "data98 = pd.read_csv(r'/content/drive/My Drive/Dados/PSD data/psd_98.csv',header=0, sep=';', usecols=cols98)\n",
        "data98 = data98.transpose()"
      ]
    },
    {
      "cell_type": "code",
      "execution_count": null,
      "metadata": {
        "id": "bkdpoZ7GX0nJ"
      },
      "outputs": [],
      "source": [
        "data102 = pd.read_csv(r'/content/drive/My Drive/Dados/PSD data/psd_102.csv',header=0, sep=';', usecols=cols102)\n",
        "data102 = data102.transpose()"
      ]
    },
    {
      "cell_type": "code",
      "execution_count": null,
      "metadata": {
        "id": "kk4wOSZphng2"
      },
      "outputs": [],
      "source": [
        "data99 = pd.read_csv(r'/content/drive/My Drive/Dados/PSD data/psd_99.csv',header=0, sep=';', usecols=cols99)\n",
        "data99 = data99.transpose()"
      ]
    },
    {
      "cell_type": "code",
      "execution_count": null,
      "metadata": {
        "id": "GkCmVGuHhnob"
      },
      "outputs": [],
      "source": [
        "data101 = pd.read_csv(r'/content/drive/My Drive/Dados/PSD data/psd_101.csv',header=0, sep=';', usecols=cols101)\n",
        "data101 = data101.transpose()"
      ]
    },
    {
      "cell_type": "code",
      "execution_count": null,
      "metadata": {
        "id": "u4eyvSuRShwo"
      },
      "outputs": [],
      "source": [
        "data97 = pd.read_csv(r'/content/drive/My Drive/Dados/PSD data/psd_97.csv',header=0, sep=';', usecols=cols97)\n",
        "data97 = data97.transpose()"
      ]
    },
    {
      "cell_type": "code",
      "execution_count": null,
      "metadata": {
        "id": "8hn9SMLJ_JV7"
      },
      "outputs": [],
      "source": [
        "datanormal = pd.read_csv(r'/content/drive/My Drive/Dados/PSD data/psd_100.csv',header=0, sep=';', usecols=colsnormal)\n",
        "datanormal = datanormal.transpose()"
      ]
    },
    {
      "cell_type": "code",
      "execution_count": null,
      "metadata": {
        "id": "iOCnSYHlvCDo"
      },
      "outputs": [],
      "source": [
        "data105 = pd.read_csv(r'/content/drive/My Drive/Dados/PSD data/psd_105.csv',header=0, sep=';', usecols=cols105)\n",
        "data105 = data105.transpose()"
      ]
    },
    {
      "cell_type": "code",
      "execution_count": null,
      "metadata": {
        "id": "qCdEIrX8CP77"
      },
      "outputs": [],
      "source": [
        "final = pd.read_csv(r'/content/drive/My Drive/Dados/results6.csv',header=0, sep=',',index_col=0)"
      ]
    },
    {
      "cell_type": "code",
      "execution_count": null,
      "metadata": {
        "id": "i796WJ2yTAYv"
      },
      "outputs": [],
      "source": [
        "finalpsd = pd.read_csv(r'/content/drive/My Drive/Dados/resultspsdcerto2.csv',header=0, sep=',',index_col=0)"
      ]
    },
    {
      "cell_type": "code",
      "execution_count": null,
      "metadata": {
        "id": "VykKnKhlEgpF"
      },
      "outputs": [],
      "source": [
        "final = np.array(final)"
      ]
    },
    {
      "cell_type": "code",
      "execution_count": null,
      "metadata": {
        "id": "FCzqKvT3QHJr"
      },
      "outputs": [],
      "source": [
        "scaler = MinMaxScaler(feature_range=(0,4))"
      ]
    },
    {
      "cell_type": "code",
      "execution_count": null,
      "metadata": {
        "id": "CT1QLraBRX6x"
      },
      "outputs": [],
      "source": [
        "final = scaler.fit_transform(final)"
      ]
    },
    {
      "cell_type": "code",
      "execution_count": null,
      "metadata": {
        "id": "ECzjIMK7BVii"
      },
      "outputs": [],
      "source": [
        "data95 = np.array(data95)\n",
        "data96 = np.array(data96)\n",
        "data97 = np.array(data97)\n",
        "data98 = np.array(data98)\n",
        "data99 = np.array(data99)\n",
        "datanormal = np.array(datanormal)\n",
        "data101 = np.array(data101)\n",
        "data102 = np.array(data102)\n",
        "data103 = np.array(data103)\n",
        "data104 = np.array(data104)\n",
        "data105 = np.array(data105)"
      ]
    },
    {
      "cell_type": "code",
      "execution_count": null,
      "metadata": {
        "id": "xN_zh1t-8vkf"
      },
      "outputs": [],
      "source": [
        "x0 = data95[:87,:] #03\n",
        "x1 = data96[:185,:] #03\n",
        "x2 = data97[:197,:] #05\n",
        "x3 = data98[:75,:] #03\n",
        "x4 = data99[:204,:] #03\n",
        "x5 = datanormal[:203,:] #normal\n",
        "x6 = data101[:79,:] #03\n",
        "x7 = data102[:190,:] #03\n",
        "x8 = data103[:80,:] #03\n",
        "x9 = data104[:89,:] #03\n",
        "x10 = data105[:185,:] #105\n",
        "\n",
        "\n",
        "x = np.concatenate((x0,x1,x2,x3,x4,x5,x6,x7,x8,x9,x10), axis=0)\n",
        "\n",
        "y = np.ones((1574), dtype=np.int32)\n",
        "\n",
        "y[:87] = 1\n",
        "y[87:272] = 2\n",
        "y[272:469] = 3\n",
        "y[469:544] = 4\n",
        "y[544:748] = 5\n",
        "y[748:951] = 6\n",
        "y[951:1030] = 7\n",
        "y[1030:1220] = 8\n",
        "y[1220:1300] = 9\n",
        "y[1300:1389] = 10\n",
        "y[1389:1574] = 11"
      ]
    },
    {
      "cell_type": "code",
      "execution_count": null,
      "metadata": {
        "id": "ILmJTHrrocbQ"
      },
      "outputs": [],
      "source": [
        "final95 = final[:87,:] #normal\n",
        "final96 = final[87:272,:] #96\n",
        "final97 = final[272:469,:] #96\n",
        "final98 = final[469:544,:] #96\n",
        "final99 = final[544:748,:] #96\n",
        "finalnormal = final[748:951,:] #normal\n",
        "final101 = final[951:1030,:] #96\n",
        "final102 = final[1030:1220,:] #96\n",
        "final103 = final[1220:1300,:]\n",
        "final104 = final[1300:1389,:] #96\n",
        "final105 = final[1389:1574,:] #105\n",
        "\n",
        "finaltudo = np.concatenate((final95, final96, final97, final98, final99, finalnormal,final101, final102, final103, final104, final105), axis=0)"
      ]
    },
    {
      "cell_type": "code",
      "execution_count": null,
      "metadata": {
        "id": "ZVYyncJPHHUa"
      },
      "outputs": [],
      "source": [
        "oversample = SMOTE(sampling_strategy='all', k_neighbors=3, random_state=1)"
      ]
    },
    {
      "cell_type": "code",
      "execution_count": null,
      "metadata": {
        "id": "g8m-L-AiHKYI"
      },
      "outputs": [],
      "source": [
        "xf, y = oversample.fit_resample(finaltudo, y)"
      ]
    },
    {
      "cell_type": "code",
      "execution_count": null,
      "metadata": {
        "id": "KgvLx0KDHMlv"
      },
      "outputs": [],
      "source": [
        "y = np.ones((1574), dtype=np.int32)\n",
        "\n",
        "y[:87] = 1\n",
        "y[87:272] = 2\n",
        "y[272:469] = 3\n",
        "y[469:544] = 4\n",
        "y[544:748] = 5\n",
        "y[748:951] = 6\n",
        "y[951:1030] = 7\n",
        "y[1030:1220] =8\n",
        "y[1220:1300] = 9\n",
        "y[1300:1389] = 10\n",
        "y[1389:1574] = 11"
      ]
    },
    {
      "cell_type": "code",
      "execution_count": null,
      "metadata": {
        "id": "2Xz1lAn0HRLi"
      },
      "outputs": [],
      "source": [
        "x, y = oversample.fit_resample(x, y)"
      ]
    },
    {
      "cell_type": "code",
      "execution_count": null,
      "metadata": {
        "colab": {
          "base_uri": "https://localhost:8080/"
        },
        "id": "o4GYAt5Kh9SN",
        "outputId": "2ac3ddc8-4edc-4b37-d8e6-7ed432a10444"
      },
      "outputs": [
        {
          "data": {
            "text/plain": [
              "(2244, 15)"
            ]
          },
          "execution_count": 47,
          "metadata": {},
          "output_type": "execute_result"
        }
      ],
      "source": [
        "x.shape"
      ]
    },
    {
      "cell_type": "code",
      "execution_count": null,
      "metadata": {
        "id": "dj8Dy-VS1lW1"
      },
      "outputs": [],
      "source": [
        "x0f = np.concatenate((xf[:87],xf[1574:1691]))\n",
        "x1f = np.concatenate((xf[87:272],xf[1691:1710]))\n",
        "x2f = np.concatenate((xf[272:469],xf[1710:1717]))\n",
        "x3f = np.concatenate((xf[469:544],xf[1717:1846]))\n",
        "x4f = xf[544:748]\n",
        "x5f = np.concatenate((xf[748:951],xf[1846:1847]))\n",
        "x6f = np.concatenate((xf[951:1030],xf[1847:1972]))\n",
        "x7f = np.concatenate((xf[1030:1220],xf[1972:1986]))\n",
        "x8f = np.concatenate((xf[1220:1300],xf[1986:2110]))\n",
        "x9f = np.concatenate((xf[1300:1389],xf[2110:2225]))\n",
        "x10f = np.concatenate((xf[1389:1574],xf[2225:2244]))\n",
        "\n",
        "\n",
        "classe05f = np.concatenate((x0f,x10f))\n",
        "classe04f = np.concatenate((x1f,x9f))\n",
        "classe03f = np.concatenate((x2f,x8f))\n",
        "classe02f = np.concatenate((x3f,x7f))\n",
        "classe01f = np.concatenate((x4f,x6f))\n",
        "classenormalf = x5f\n",
        "\n",
        "\n",
        "\n",
        "xSMOTEearlyf = np.concatenate((classe05f,classe04f,classe03f,classe02f,classe01f,classenormalf))"
      ]
    },
    {
      "cell_type": "code",
      "execution_count": null,
      "metadata": {
        "id": "bsVK7Qmxl3Uu"
      },
      "outputs": [],
      "source": [
        "x0 = np.concatenate((x[:87],x[1574:1691]))\n",
        "x1 = np.concatenate((x[87:272],x[1691:1710]))\n",
        "x2 = np.concatenate((x[272:469],x[1710:1717]))\n",
        "x3 = np.concatenate((x[469:544],x[1717:1846]))\n",
        "x4 = x[544:748]\n",
        "x5 = np.concatenate((x[748:951],x[1846:1847]))\n",
        "x6 = np.concatenate((x[951:1030],x[1847:1972]))\n",
        "x7 = np.concatenate((x[1030:1220],x[1972:1986]))\n",
        "x8 = np.concatenate((x[1220:1300],x[1986:2110]))\n",
        "x9 = np.concatenate((x[1300:1389],x[2110:2225]))\n",
        "x10 = np.concatenate((x[1389:1574],x[2225:2244]))\n",
        "\n",
        "\n",
        "classe05 = np.concatenate((x0,x10))\n",
        "classe04 = np.concatenate((x1,x9))\n",
        "classe03 = np.concatenate((x2,x8))\n",
        "classe02 = np.concatenate((x3,x7))\n",
        "classe01 = np.concatenate((x4,x6))\n",
        "classenormal = x5\n",
        "\n",
        "\n",
        "\n",
        "xSMOTEearly = np.concatenate((classe05,classe04,classe03,classe02,classe01,classenormal))"
      ]
    },
    {
      "cell_type": "code",
      "execution_count": null,
      "metadata": {
        "id": "0__5Sa3eoQEC"
      },
      "outputs": [],
      "source": [
        "y = np.ones((2244), dtype=np.int32)\n",
        "\n",
        "y[:408] = 0\n",
        "y[408:816] = 1\n",
        "y[816:1224] = 2\n",
        "y[1224:1632] = 3\n",
        "y[1632:2040] = 4\n",
        "y[2040:2244] = 5"
      ]
    },
    {
      "cell_type": "code",
      "execution_count": null,
      "metadata": {
        "id": "6a7pgXZEH0ug"
      },
      "outputs": [],
      "source": [
        "xSMOTEearlyf, y = oversample.fit_resample(xSMOTEearlyf, y)"
      ]
    },
    {
      "cell_type": "code",
      "execution_count": null,
      "metadata": {
        "id": "UNEzt8H7_HST"
      },
      "outputs": [],
      "source": [
        "y = np.ones((2244), dtype=np.int32)\n",
        "\n",
        "y[:408] = 0\n",
        "y[408:816] = 1\n",
        "y[816:1224] = 2\n",
        "y[1224:1632] = 3\n",
        "y[1632:2040] = 4\n",
        "y[2040:2244] = 5"
      ]
    },
    {
      "cell_type": "code",
      "execution_count": null,
      "metadata": {
        "id": "mIs1zM-wRiMM"
      },
      "outputs": [],
      "source": [
        "xSMOTEearly, y = oversample.fit_resample(xSMOTEearly, y)"
      ]
    },
    {
      "cell_type": "code",
      "execution_count": null,
      "metadata": {
        "id": "_x4hjmpZIHCG"
      },
      "outputs": [],
      "source": [
        "xfinal = np.concatenate((xSMOTEearly,xSMOTEearlyf, finalpsd), axis=1)"
      ]
    },
    {
      "cell_type": "code",
      "execution_count": null,
      "metadata": {
        "colab": {
          "base_uri": "https://localhost:8080/",
          "height": 885
        },
        "id": "kY4RXnQpuYJw",
        "outputId": "14982082-4290-4778-f8e4-ecec081d5aa6"
      },
      "outputs": [
        {
          "name": "stderr",
          "output_type": "stream",
          "text": [
            "/usr/local/lib/python3.7/dist-packages/ipykernel_launcher.py:20: MatplotlibDeprecationWarning: Since 3.2, mpl_toolkits's own colorbar implementation is deprecated; it will be removed two minor releases later.  Set the 'mpl_toolkits.legacy_colorbar' rcParam to False to use Matplotlib's default colorbar implementation and suppress this deprecation warning.\n"
          ]
        },
        {
          "data": {
            "image/png": "[encoded data removed]",
            "text/plain": [
              "<Figure size 1872x936 with 2 Axes>"
            ]
          },
          "metadata": {},
          "output_type": "display_data"
        }
      ],
      "source": [
        "gadf = GramianAngularField(image_size=1.0, sample_range=(-1,1), method='d')\n",
        "X_gadf = gadf.fit_transform(xfinal)\n",
        "\n",
        "# Show the images for the first time series\n",
        "fig = plt.figure(figsize=(26, 13))\n",
        "grid = ImageGrid(fig, 111,\n",
        "                 nrows_ncols=(1, 1),\n",
        "                 axes_pad=0.15,\n",
        "                 share_all=True,\n",
        "                 cbar_location=\"right\",\n",
        "                 cbar_mode=\"single\",\n",
        "                 cbar_size=\"7%\",\n",
        "                 cbar_pad=0.3,\n",
        "                 )\n",
        "images = [ X_gadf[1000]]\n",
        "titles = ['Gramian Angular Difference Field']\n",
        "for image, title, ax in zip(images, titles, grid):\n",
        "    im = ax.imshow(image)\n",
        "    ax.set_title(title, fontdict={'fontsize': 30})\n",
        "ax.cax.colorbar(im)\n",
        "ax.cax.toggle_label(True)\n",
        "plt.suptitle('Gramian Angular Fields', y=0.98, fontsize=16)\n",
        "plt.show()"
      ]
    },
    {
      "cell_type": "code",
      "execution_count": null,
      "metadata": {
        "id": "DSBfSzrQXZFo"
      },
      "outputs": [],
      "source": [
        "Imagem = X_gadf[: , : , : , np.newaxis]*[1,1,1]"
      ]
    },
    {
      "cell_type": "code",
      "execution_count": null,
      "metadata": {
        "colab": {
          "base_uri": "https://localhost:8080/"
        },
        "id": "dXGzs8Z2nylZ",
        "outputId": "2b9cf775-0927-4411-96ed-510c5cfbf324"
      },
      "outputs": [
        {
          "data": {
            "text/plain": [
              "(2448, 37, 37, 3)"
            ]
          },
          "execution_count": 52,
          "metadata": {},
          "output_type": "execute_result"
        }
      ],
      "source": [
        "Imagem.shape"
      ]
    },
    {
      "cell_type": "code",
      "execution_count": null,
      "metadata": {
        "id": "9IxMlyAOgAMj"
      },
      "outputs": [],
      "source": [
        "X_train, X_test, y_train, y_test = train_test_split(Imagem, y, test_size=0.2, random_state=6)"
      ]
    },
    {
      "cell_type": "code",
      "execution_count": null,
      "metadata": {
        "colab": {
          "base_uri": "https://localhost:8080/"
        },
        "id": "sEyzYKTuiKCb",
        "outputId": "2c5a46dc-8ce3-423c-8cd2-bc550a9ac0b9"
      },
      "outputs": [
        {
          "name": "stdout",
          "output_type": "stream",
          "text": [
            "Total number of outputs :  6\n",
            "Output classes :  [0 1 2 3 4 5]\n"
          ]
        }
      ],
      "source": [
        "classes = np.unique(y_train)\n",
        "nClasses = len(classes)\n",
        "print('Total number of outputs : ', nClasses)\n",
        "print('Output classes : ', classes)"
      ]
    },
    {
      "cell_type": "code",
      "execution_count": null,
      "metadata": {
        "colab": {
          "base_uri": "https://localhost:8080/"
        },
        "id": "8vjnF-xKiKFz",
        "outputId": "ad102e30-db8f-4b28-9656-3beaad33b3a2"
      },
      "outputs": [
        {
          "data": {
            "text/plain": [
              "((1958, 37, 37, 3), (490, 37, 37, 3))"
            ]
          },
          "execution_count": 55,
          "metadata": {},
          "output_type": "execute_result"
        }
      ],
      "source": [
        "train_X = X_train\n",
        "test_X = X_test\n",
        "train_X.shape, test_X.shape"
      ]
    },
    {
      "cell_type": "code",
      "execution_count": null,
      "metadata": {
        "colab": {
          "base_uri": "https://localhost:8080/"
        },
        "id": "L5iBCNcnjl4E",
        "outputId": "b7e00ebc-8e77-4066-a692-3d2144e39d4d"
      },
      "outputs": [
        {
          "name": "stdout",
          "output_type": "stream",
          "text": [
            "Original label: 2\n",
            "After conversion to one-hot: [0. 0. 1. 0. 0. 0.]\n"
          ]
        }
      ],
      "source": [
        "# Change the labels from categorical to one-hot encoding\n",
        "train_Y_one_hot = to_categorical(y_train)\n",
        "test_Y_one_hot = to_categorical(y_test)\n",
        "\n",
        "# Display the change for category label using one-hot encoding\n",
        "print('Original label:', y_train[7])\n",
        "print('After conversion to one-hot:', train_Y_one_hot[7])\n",
        "\n",
        "\n",
        "\n"
      ]
    },
    {
      "cell_type": "code",
      "execution_count": null,
      "metadata": {
        "id": "DV4L1X45nNLu"
      },
      "outputs": [],
      "source": [
        "from sklearn.model_selection import train_test_split\n",
        "train_X,valid_X,train_label,valid_label = train_test_split(train_X, train_Y_one_hot, test_size=0.15, random_state=13)\n",
        "\n"
      ]
    },
    {
      "cell_type": "code",
      "execution_count": null,
      "metadata": {
        "id": "jOYSXTjmpLCW"
      },
      "outputs": [],
      "source": [
        "import keras\n",
        "from keras.models import Sequential,Input,Model\n",
        "from keras.layers import Dense, Dropout, Flatten\n",
        "from keras.layers import Conv2D, MaxPooling2D, AveragePooling2D, GlobalAveragePooling2D\n",
        "#from keras.layers.normalization import BatchNormalization\n",
        "from keras.layers.advanced_activations import LeakyReLU\n",
        "from keras.layers.advanced_activations import ReLU"
      ]
    },
    {
      "cell_type": "code",
      "execution_count": null,
      "metadata": {
        "id": "quSs0Fw9pWB3"
      },
      "outputs": [],
      "source": [
        "batch_size = 16\n",
        "epochs = 65\n",
        "num_classes = 6"
      ]
    },
    {
      "cell_type": "code",
      "execution_count": null,
      "metadata": {
        "id": "T3uptrWnrBKv"
      },
      "outputs": [],
      "source": [
        "fashion_model = Sequential()\n",
        "fashion_model.add(Conv2D(256, kernel_size=(4, 4),strides=(1,1), activation='linear',padding='same',input_shape=(37,37,3)))\n",
        "fashion_model.add(LeakyReLU(alpha=0.2))\n",
        "fashion_model.add(MaxPooling2D((2, 2),padding='same'))\n",
        "fashion_model.add(Dropout(0.5))\n",
        "fashion_model.add(Conv2D(128, kernel_size=(3, 3),strides=(1,1), activation='linear',padding='same'))\n",
        "fashion_model.add(LeakyReLU(alpha=0.2))\n",
        "fashion_model.add(MaxPooling2D(pool_size=(3, 3),padding='same'))\n",
        "fashion_model.add(Dropout(0.5))\n",
        "fashion_model.add(Conv2D(128, kernel_size=(2,2),strides=(1,1), activation='linear',padding='same'))\n",
        "fashion_model.add(LeakyReLU(alpha=0.2))\n",
        "fashion_model.add(MaxPooling2D(pool_size=(3, 3),padding='same'))\n",
        "fashion_model.add(Dropout(0.3))\n",
        "fashion_model.add(Flatten())\n",
        "fashion_model.add(Dense(128, activation='linear'))\n",
        "fashion_model.add(LeakyReLU(alpha=0.2))\n",
        "fashion_model.add(Dropout(0.3))\n",
        "fashion_model.add(Dense(num_classes, activation='softmax'))"
      ]
    },
    {
      "cell_type": "code",
      "execution_count": null,
      "metadata": {
        "id": "pBe0_F_jrMHr"
      },
      "outputs": [],
      "source": [
        "fashion_model.compile(loss=keras.losses.categorical_crossentropy, optimizer='Adam' ,metrics=['accuracy'])"
      ]
    },
    {
      "cell_type": "code",
      "execution_count": null,
      "metadata": {
        "id": "M7kXt0ZshlqI"
      },
      "outputs": [],
      "source": [
        "checkpoint_filepath = '/tmp/checkpoint'\n",
        "model_checkpoint_callback = tf.keras.callbacks.ModelCheckpoint(\n",
        "    filepath=checkpoint_filepath,\n",
        "    save_weights_only=False,\n",
        "    monitor='loss',\n",
        "    mode='min',\n",
        "    save_best_only=True)"
      ]
    },
    {
      "cell_type": "code",
      "execution_count": null,
      "metadata": {
        "id": "lyGEhe7ThmmQ"
      },
      "outputs": [],
      "source": [
        "callbacks = [\n",
        "             EarlyStopping(patience=200),\n",
        "]"
      ]
    },
    {
      "cell_type": "code",
      "execution_count": null,
      "metadata": {
        "colab": {
          "background_save": true,
          "base_uri": "https://localhost:8080/"
        },
        "id": "fAjJOTtoIvlr",
        "outputId": "50db54a0-261b-422d-cc1c-ef33f23f2f58"
      },
      "outputs": [
        {
          "name": "stdout",
          "output_type": "stream",
          "text": [
            "Epoch 1/65\n",
            "104/104 [==============================] - 41s 380ms/step - loss: 1.7669 - accuracy: 0.2284 - val_loss: 1.3913 - val_accuracy: 0.3197\n",
            "Epoch 2/65\n",
            "104/104 [==============================] - 38s 365ms/step - loss: 1.1583 - accuracy: 0.4609 - val_loss: 0.8365 - val_accuracy: 0.6224\n",
            "Epoch 3/65\n",
            "104/104 [==============================] - 41s 393ms/step - loss: 0.9410 - accuracy: 0.5715 - val_loss: 0.6967 - val_accuracy: 0.7109\n",
            "Epoch 4/65\n",
            "104/104 [==============================] - 40s 383ms/step - loss: 0.8508 - accuracy: 0.6124 - val_loss: 0.6519 - val_accuracy: 0.7755\n",
            "Epoch 5/65\n",
            "104/104 [==============================] - 39s 378ms/step - loss: 0.7979 - accuracy: 0.6334 - val_loss: 0.6818 - val_accuracy: 0.7041\n",
            "Epoch 6/65\n",
            "104/104 [==============================] - 39s 377ms/step - loss: 0.7319 - accuracy: 0.6641 - val_loss: 0.6713 - val_accuracy: 0.6803\n",
            "Epoch 7/65\n",
            "104/104 [==============================] - 38s 367ms/step - loss: 0.6900 - accuracy: 0.6935 - val_loss: 0.6326 - val_accuracy: 0.7415\n",
            "Epoch 8/65\n",
            "104/104 [==============================] - 38s 365ms/step - loss: 0.6601 - accuracy: 0.7073 - val_loss: 0.5851 - val_accuracy: 0.7483\n",
            "Epoch 9/65\n",
            "104/104 [==============================] - 38s 368ms/step - loss: 0.6615 - accuracy: 0.7091 - val_loss: 0.6454 - val_accuracy: 0.6871\n",
            "Epoch 10/65\n",
            "104/104 [==============================] - 38s 369ms/step - loss: 0.6143 - accuracy: 0.7073 - val_loss: 0.6267 - val_accuracy: 0.7347\n",
            "Epoch 11/65\n",
            "104/104 [==============================] - 38s 365ms/step - loss: 0.6478 - accuracy: 0.7073 - val_loss: 0.5357 - val_accuracy: 0.7619\n",
            "Epoch 12/65\n",
            "104/104 [==============================] - 38s 367ms/step - loss: 0.5901 - accuracy: 0.7428 - val_loss: 0.4977 - val_accuracy: 0.7925\n",
            "Epoch 13/65\n",
            "104/104 [==============================] - 38s 367ms/step - loss: 0.6327 - accuracy: 0.7139 - val_loss: 0.5824 - val_accuracy: 0.7551\n",
            "Epoch 14/65\n",
            "104/104 [==============================] - 39s 373ms/step - loss: 0.5599 - accuracy: 0.7464 - val_loss: 0.5141 - val_accuracy: 0.8129\n",
            "Epoch 15/65\n",
            "104/104 [==============================] - 39s 372ms/step - loss: 0.5741 - accuracy: 0.7428 - val_loss: 0.5591 - val_accuracy: 0.7823\n",
            "Epoch 16/65\n",
            "104/104 [==============================] - 39s 371ms/step - loss: 0.5394 - accuracy: 0.7704 - val_loss: 0.5295 - val_accuracy: 0.7585\n",
            "Epoch 17/65\n",
            "104/104 [==============================] - 38s 364ms/step - loss: 0.5422 - accuracy: 0.7710 - val_loss: 0.5031 - val_accuracy: 0.7959\n",
            "Epoch 18/65\n",
            "104/104 [==============================] - 38s 367ms/step - loss: 0.5757 - accuracy: 0.7482 - val_loss: 0.5462 - val_accuracy: 0.7959\n",
            "Epoch 19/65\n",
            "104/104 [==============================] - 38s 369ms/step - loss: 0.5276 - accuracy: 0.7590 - val_loss: 0.5116 - val_accuracy: 0.7585\n",
            "Epoch 20/65\n",
            "104/104 [==============================] - 38s 370ms/step - loss: 0.5215 - accuracy: 0.7704 - val_loss: 0.4990 - val_accuracy: 0.7925\n",
            "Epoch 21/65\n",
            "104/104 [==============================] - 38s 365ms/step - loss: 0.5600 - accuracy: 0.7662 - val_loss: 0.5107 - val_accuracy: 0.7959\n",
            "Epoch 22/65\n",
            "104/104 [==============================] - 38s 361ms/step - loss: 0.5168 - accuracy: 0.7734 - val_loss: 0.6405 - val_accuracy: 0.7041\n",
            "Epoch 23/65\n",
            "104/104 [==============================] - 38s 361ms/step - loss: 0.5469 - accuracy: 0.7638 - val_loss: 1.0713 - val_accuracy: 0.5374\n",
            "Epoch 24/65\n",
            "104/104 [==============================] - 38s 363ms/step - loss: 0.5661 - accuracy: 0.7548 - val_loss: 0.4541 - val_accuracy: 0.8027\n",
            "Epoch 25/65\n",
            "104/104 [==============================] - 38s 362ms/step - loss: 0.5176 - accuracy: 0.7716 - val_loss: 0.4755 - val_accuracy: 0.7925\n",
            "Epoch 26/65\n",
            "104/104 [==============================] - 38s 363ms/step - loss: 0.5021 - accuracy: 0.7909 - val_loss: 0.5982 - val_accuracy: 0.6803\n",
            "Epoch 27/65\n",
            "104/104 [==============================] - 38s 361ms/step - loss: 0.4584 - accuracy: 0.7903 - val_loss: 0.4383 - val_accuracy: 0.8333\n",
            "Epoch 28/65\n",
            "104/104 [==============================] - 38s 361ms/step - loss: 0.5434 - accuracy: 0.7608 - val_loss: 0.4623 - val_accuracy: 0.8299\n",
            "Epoch 29/65\n",
            "104/104 [==============================] - 38s 366ms/step - loss: 0.4857 - accuracy: 0.7794 - val_loss: 0.4416 - val_accuracy: 0.8265\n",
            "Epoch 30/65\n",
            "104/104 [==============================] - 38s 363ms/step - loss: 0.5140 - accuracy: 0.7794 - val_loss: 0.4453 - val_accuracy: 0.8299\n",
            "Epoch 31/65\n",
            "104/104 [==============================] - 38s 363ms/step - loss: 0.4802 - accuracy: 0.7885 - val_loss: 0.4413 - val_accuracy: 0.8231\n",
            "Epoch 32/65\n",
            "104/104 [==============================] - 38s 368ms/step - loss: 0.5330 - accuracy: 0.7596 - val_loss: 0.5157 - val_accuracy: 0.7823\n",
            "Epoch 33/65\n",
            "104/104 [==============================] - 38s 365ms/step - loss: 0.4993 - accuracy: 0.7831 - val_loss: 0.6521 - val_accuracy: 0.6463\n",
            "Epoch 34/65\n",
            "104/104 [==============================] - 38s 363ms/step - loss: 0.4793 - accuracy: 0.7855 - val_loss: 0.4433 - val_accuracy: 0.8095\n",
            "Epoch 35/65\n",
            "104/104 [==============================] - 38s 364ms/step - loss: 0.4543 - accuracy: 0.7981 - val_loss: 0.5273 - val_accuracy: 0.7653\n",
            "Epoch 36/65\n",
            "104/104 [==============================] - 38s 365ms/step - loss: 0.4722 - accuracy: 0.8029 - val_loss: 0.5501 - val_accuracy: 0.7449\n",
            "Epoch 37/65\n",
            "104/104 [==============================] - 38s 362ms/step - loss: 0.4836 - accuracy: 0.7867 - val_loss: 0.4249 - val_accuracy: 0.8231\n",
            "Epoch 38/65\n",
            "104/104 [==============================] - 38s 361ms/step - loss: 0.4883 - accuracy: 0.7849 - val_loss: 0.4452 - val_accuracy: 0.8197\n",
            "Epoch 39/65\n",
            "104/104 [==============================] - 38s 362ms/step - loss: 0.4529 - accuracy: 0.8101 - val_loss: 0.4454 - val_accuracy: 0.8027\n",
            "Epoch 40/65\n",
            "104/104 [==============================] - 39s 380ms/step - loss: 0.5234 - accuracy: 0.7776 - val_loss: 0.5088 - val_accuracy: 0.7789\n",
            "Epoch 41/65\n",
            "104/104 [==============================] - 39s 372ms/step - loss: 0.4498 - accuracy: 0.8107 - val_loss: 0.4353 - val_accuracy: 0.8061\n",
            "Epoch 42/65\n",
            "104/104 [==============================] - 37s 360ms/step - loss: 0.4547 - accuracy: 0.8047 - val_loss: 0.5078 - val_accuracy: 0.7755\n",
            "Epoch 43/65\n",
            "104/104 [==============================] - 37s 360ms/step - loss: 0.4837 - accuracy: 0.7825 - val_loss: 0.4652 - val_accuracy: 0.8163\n",
            "Epoch 44/65\n",
            "104/104 [==============================] - 37s 359ms/step - loss: 0.4329 - accuracy: 0.8161 - val_loss: 0.6245 - val_accuracy: 0.6905\n",
            "Epoch 45/65\n",
            "104/104 [==============================] - 38s 363ms/step - loss: 0.4775 - accuracy: 0.7951 - val_loss: 0.4975 - val_accuracy: 0.7959\n",
            "Epoch 46/65\n",
            "104/104 [==============================] - 37s 360ms/step - loss: 0.4402 - accuracy: 0.8125 - val_loss: 0.4203 - val_accuracy: 0.8401\n",
            "Epoch 47/65\n",
            "104/104 [==============================] - 37s 359ms/step - loss: 0.4754 - accuracy: 0.8053 - val_loss: 0.5189 - val_accuracy: 0.7653\n",
            "Epoch 48/65\n",
            "104/104 [==============================] - 38s 362ms/step - loss: 0.4766 - accuracy: 0.7963 - val_loss: 0.4450 - val_accuracy: 0.8197\n",
            "Epoch 49/65\n",
            "104/104 [==============================] - 37s 355ms/step - loss: 0.4535 - accuracy: 0.8119 - val_loss: 0.5581 - val_accuracy: 0.7653\n",
            "Epoch 50/65\n",
            "104/104 [==============================] - 37s 354ms/step - loss: 0.4783 - accuracy: 0.7861 - val_loss: 0.4297 - val_accuracy: 0.8027\n",
            "Epoch 51/65\n",
            "104/104 [==============================] - 37s 352ms/step - loss: 0.4266 - accuracy: 0.8137 - val_loss: 0.5697 - val_accuracy: 0.7789\n",
            "Epoch 52/65\n",
            "104/104 [==============================] - 37s 352ms/step - loss: 0.4972 - accuracy: 0.7855 - val_loss: 0.4232 - val_accuracy: 0.8299\n",
            "Epoch 53/65\n",
            "104/104 [==============================] - 37s 354ms/step - loss: 0.4426 - accuracy: 0.8095 - val_loss: 0.4318 - val_accuracy: 0.8231\n",
            "Epoch 54/65\n",
            "104/104 [==============================] - 37s 352ms/step - loss: 0.4371 - accuracy: 0.8101 - val_loss: 0.3879 - val_accuracy: 0.8469\n",
            "Epoch 55/65\n",
            "104/104 [==============================] - 37s 353ms/step - loss: 0.4542 - accuracy: 0.8005 - val_loss: 0.4470 - val_accuracy: 0.8061\n",
            "Epoch 56/65\n",
            "104/104 [==============================] - 37s 356ms/step - loss: 0.4153 - accuracy: 0.8137 - val_loss: 0.4292 - val_accuracy: 0.8197\n",
            "Epoch 57/65\n",
            "104/104 [==============================] - 37s 357ms/step - loss: 0.4985 - accuracy: 0.7963 - val_loss: 0.4701 - val_accuracy: 0.8095\n",
            "Epoch 58/65\n",
            "104/104 [==============================] - 37s 358ms/step - loss: 0.4547 - accuracy: 0.8035 - val_loss: 0.5233 - val_accuracy: 0.7483\n",
            "Epoch 59/65\n",
            "104/104 [==============================] - 37s 358ms/step - loss: 0.4377 - accuracy: 0.8209 - val_loss: 0.3972 - val_accuracy: 0.8469\n",
            "Epoch 60/65\n",
            "104/104 [==============================] - 37s 353ms/step - loss: 0.4447 - accuracy: 0.8185 - val_loss: 0.4294 - val_accuracy: 0.8163\n",
            "Epoch 61/65\n",
            "104/104 [==============================] - 37s 352ms/step - loss: 0.4615 - accuracy: 0.8071 - val_loss: 0.4684 - val_accuracy: 0.8027\n",
            "Epoch 62/65\n",
            "104/104 [==============================] - 37s 355ms/step - loss: 0.4386 - accuracy: 0.8113 - val_loss: 0.5175 - val_accuracy: 0.7857\n",
            "Epoch 63/65\n",
            "104/104 [==============================] - 37s 354ms/step - loss: 0.4683 - accuracy: 0.8131 - val_loss: 0.5227 - val_accuracy: 0.7789\n",
            "Epoch 64/65\n",
            "104/104 [==============================] - 37s 353ms/step - loss: 0.4324 - accuracy: 0.8107 - val_loss: 0.4337 - val_accuracy: 0.8163\n",
            "Epoch 65/65\n",
            "104/104 [==============================] - 37s 354ms/step - loss: 0.4384 - accuracy: 0.8221 - val_loss: 0.3990 - val_accuracy: 0.8367\n"
          ]
        }
      ],
      "source": [
        "fashion_train = fashion_model.fit(train_X, train_label,callbacks=callbacks, batch_size=batch_size, epochs=epochs,verbose=1, validation_data=(valid_X,valid_label))"
      ]
    },
    {
      "cell_type": "code",
      "execution_count": null,
      "metadata": {
        "colab": {
          "base_uri": "https://localhost:8080/"
        },
        "id": "zE5PMeutIzJA",
        "outputId": "f5e1fa92-71dc-4c2c-ca81-49d6d9ae1e69"
      },
      "outputs": [
        {
          "name": "stdout",
          "output_type": "stream",
          "text": [
            "16/16 [==============================] - 2s 113ms/step - loss: 0.9969 - accuracy: 0.5837\n"
          ]
        }
      ],
      "source": [
        "test_eval = fashion_model.evaluate(test_X, test_Y_one_hot, verbose=1)"
      ]
    },
    {
      "cell_type": "code",
      "execution_count": null,
      "metadata": {
        "colab": {
          "base_uri": "https://localhost:8080/"
        },
        "id": "o31dST3-IzNc",
        "outputId": "db467444-f292-4285-8a82-0e1e283158f0"
      },
      "outputs": [
        {
          "name": "stdout",
          "output_type": "stream",
          "text": [
            "Test loss: 0.29549455642700195\n",
            "Test accuracy: 0.8918367624282837\n"
          ]
        }
      ],
      "source": [
        "print('Test loss:', test_eval[0])\n",
        "print('Test accuracy:', test_eval[1])"
      ]
    },
    {
      "cell_type": "code",
      "execution_count": null,
      "metadata": {
        "id": "lkYeEDIE2VqN"
      },
      "outputs": [],
      "source": []
    },
    {
      "cell_type": "code",
      "execution_count": null,
      "metadata": {
        "colab": {
          "base_uri": "https://localhost:8080/",
          "height": 545
        },
        "id": "vEtGJ3cDdJQ4",
        "outputId": "9e7fb13b-486e-4a68-fc8f-ca664a4add5c"
      },
      "outputs": [
        {
          "data": {
            "image/png": "[encoded data removed]",
            "text/plain": [
              "<Figure size 432x288 with 1 Axes>"
            ]
          },
          "metadata": {},
          "output_type": "display_data"
        },
        {
          "data": {
            "image/png": "[encoded data removed]",
            "text/plain": [
              "<Figure size 432x288 with 1 Axes>"
            ]
          },
          "metadata": {},
          "output_type": "display_data"
        }
      ],
      "source": [
        "accuracy = fashion_train.history['accuracy']\n",
        "val_accuracy = fashion_train.history['val_accuracy']\n",
        "loss = fashion_train.history['loss']\n",
        "val_loss = fashion_train.history['val_loss']\n",
        "epochs = range(len(accuracy))\n",
        "plt.plot(epochs, accuracy, 'bo', label='Training accuracy')\n",
        "plt.plot(epochs, val_accuracy, 'b', label='Validation accuracy')\n",
        "plt.title('Training and validation accuracy')\n",
        "plt.legend()\n",
        "plt.figure()\n",
        "plt.plot(epochs, loss, 'bo', label='Training loss')\n",
        "plt.plot(epochs, val_loss, 'b', label='Validation loss')\n",
        "plt.title('Training and validation loss')\n",
        "plt.legend()\n",
        "plt.show()"
      ]
    },
    {
      "cell_type": "code",
      "execution_count": null,
      "metadata": {
        "colab": {
          "base_uri": "https://localhost:8080/",
          "height": 163
        },
        "id": "tcNaseF73len",
        "outputId": "30faa0b4-3254-4b20-9bda-88fc7ad53651"
      },
      "outputs": [
        {
          "ename": "NameError",
          "evalue": "ignored",
          "output_type": "error",
          "traceback": [
            "\u001b[0;31m---------------------------------------------------------------------------\u001b[0m",
            "\u001b[0;31mNameError\u001b[0m                                 Traceback (most recent call last)",
            "\u001b[0;32m<ipython-input-64-52ac569a5a6a>\u001b[0m in \u001b[0;36m<module>\u001b[0;34m()\u001b[0m\n\u001b[0;32m----> 1\u001b[0;31m \u001b[0moxi\u001b[0m \u001b[0;34m=\u001b[0m \u001b[0mnp\u001b[0m\u001b[0;34m.\u001b[0m\u001b[0mconcatenate\u001b[0m\u001b[0;34m(\u001b[0m\u001b[0;34m(\u001b[0m\u001b[0mxrandomearly\u001b[0m\u001b[0;34m,\u001b[0m \u001b[0mfinalpsd\u001b[0m\u001b[0;34m)\u001b[0m\u001b[0;34m,\u001b[0m \u001b[0maxis\u001b[0m\u001b[0;34m=\u001b[0m\u001b[0;36m1\u001b[0m\u001b[0;34m)\u001b[0m\u001b[0;34m\u001b[0m\u001b[0;34m\u001b[0m\u001b[0m\n\u001b[0m",
            "\u001b[0;31mNameError\u001b[0m: name 'xrandomearly' is not defined"
          ]
        }
      ],
      "source": [
        "oxi = np.concatenate((xrandomearly, finalpsd), axis=1)"
      ]
    },
    {
      "cell_type": "code",
      "execution_count": null,
      "metadata": {
        "id": "I0l1X7mzIae6"
      },
      "outputs": [],
      "source": [
        "X_train, X_test, y_train, y_test = train_test_split(xSMOTEearly, y, test_size=0.2, random_state=6)"
      ]
    },
    {
      "cell_type": "markdown",
      "source": [
        "**Classificadores Para Comparação**"
      ],
      "metadata": {
        "id": "sZtiDQ7SxFsi"
      }
    },
    {
      "cell_type": "code",
      "execution_count": null,
      "metadata": {
        "colab": {
          "base_uri": "https://localhost:8080/"
        },
        "id": "j9BjHjO9iX3Y",
        "outputId": "24e9e768-da1d-4517-a84e-ec177d892147"
      },
      "outputs": [
        {
          "name": "stdout",
          "output_type": "stream",
          "text": [
            "Name: Nearest Neighbors Score: 0.8183673469387756\n",
            "Name: Linear SVM Score: 0.8979591836734694\n",
            "Name: RBF SVM Score: 0.8448979591836735\n",
            "Name: Decision Tree Score: 0.8469387755102041\n",
            "Name: Random Forest Score: 0.7204081632653061\n",
            "Name: Neural Net Score: 0.8755102040816326\n",
            "Name: AdaBoost Score: 0.5857142857142857\n",
            "Name: Naive Bayes Score: 0.7224489795918367\n",
            "Name: QDA Score: 0.8816326530612245\n"
          ]
        }
      ],
      "source": [
        "names = [\"Nearest Neighbors\", \"Linear SVM\", \"RBF SVM\",\n",
        "         \"Decision Tree\", \"Random Forest\", \"Neural Net\", \"AdaBoost\",\n",
        "         \"Naive Bayes\", \"QDA\"]\n",
        "\n",
        "classifiers = [\n",
        "    KNeighborsClassifier(),\n",
        "    SVC(kernel=\"linear\",random_state=1),\n",
        "    SVC(gamma=0.005,random_state=1),\n",
        "    #GaussianProcessClassifier(1.0 * RBF(1.0)),\n",
        "    DecisionTreeClassifier(max_depth=5, random_state=1),\n",
        "    RandomForestClassifier(max_depth=5, n_estimators=10, max_features=1, random_state=1),\n",
        "    MLPClassifier(alpha=1, max_iter=1000, random_state=1),\n",
        "    AdaBoostClassifier(random_state=1),\n",
        "    GaussianNB(),\n",
        "    QuadraticDiscriminantAnalysis()]\n",
        "\n",
        "# iterate over classifiers\n",
        "for name, clf in zip(names, classifiers):\n",
        "    clf.fit(X_train, y_train)\n",
        "    score = clf.score(X_test, y_test)\n",
        "    print(\"Name: \"+name+\" Score: \"+str(score))\n"
      ]
    },
    {
      "cell_type": "code",
      "execution_count": null,
      "metadata": {
        "id": "61bBT0-MJPn7"
      },
      "outputs": [],
      "source": [
        "import sklearn.metrics as metrics\n",
        "\n",
        "y_pred_ohe = fashion_model.predict(test_X)  # shape=(n_samples, 12)\n",
        "y_pred_labels = np.argmax(y_pred_ohe, axis=1)  # only necessary if output has one-hot-encoding, shape=(n_samples)\n",
        "\n",
        "confusion_matrix = metrics.confusion_matrix(y_true=y_test, y_pred=y_pred_labels)  # shape=(12, 12)"
      ]
    },
    {
      "cell_type": "code",
      "execution_count": null,
      "metadata": {
        "id": "9ArsCvcJKDGL"
      },
      "outputs": [],
      "source": [
        "import math\n",
        "from sklearn.metrics import confusion_matrix, classification_report\n",
        "from sklearn.metrics import confusion_matrix\n",
        "from sklearn import svm"
      ]
    },
    {
      "cell_type": "code",
      "execution_count": null,
      "metadata": {
        "id": "PLDBDXEwKDGL"
      },
      "outputs": [],
      "source": [
        "#INICIO DA DEFINIÇÃO DA MATRIZ DE CONFUSAO\n",
        "def plot_confusion_matrix(y_true, y_pred,classes,\n",
        "    normalize=True,\n",
        "    title=None,\n",
        "    cmap=plt.cm.Blues):\n",
        "    \"\"\"\n",
        "    This function prints and plots the confusion matrix.\n",
        "    Normalization can be applied by setting `normalize=True`.\n",
        "    \"\"\"\n",
        "    if not title:\n",
        "        if normalize:\n",
        "            title = 'Normalized confusion matrix'\n",
        "        else:\n",
        "            title = 'Confusion matrix, without normalization'\n",
        "\n",
        "    # Compute confusion matrix\n",
        "    cm = confusion_matrix(y_true, y_pred)\n",
        "    #classes = classes[unique_labels(y_true, y_pred)]\n",
        "    # Only use the labels that appear in the data\n",
        "    if normalize:\n",
        "        cm = cm.astype('float') / cm.sum(axis=1)[:, np.newaxis]\n",
        "        print(\"Normalized confusion matrix\")\n",
        "    else:\n",
        "        print('Confusion matrix, without normalization')\n",
        "\n",
        "    print(cm)\n",
        "\n",
        "\n",
        "    fig, ax = plt.subplots()\n",
        "    im = ax.imshow(cm,aspect= 'auto', interpolation='nearest', cmap= cmap)\n",
        "\n",
        "\n",
        "    ax.figure.colorbar(im, ax=ax)\n",
        "    # We want to show all ticks...\n",
        "    ax.set(xticks=np.arange(cm.shape[1]), yticks=np.arange(cm.shape[0]),\n",
        "        # ... and label them with the respective list entries\n",
        "        xticklabels=classes, yticklabels=classes,\n",
        "        title=title,ylabel='True label', xlabel='Predicted label')\n",
        "\n",
        "    # Rotate the tick labels and set their alignment.\n",
        "    plt.setp(ax.get_xticklabels(), rotation=45, ha=\"right\",fontsize=16,\n",
        "    rotation_mode=\"anchor\")\n",
        "\n",
        "    # Loop over data dimensions and create text annotations.\n",
        "    fmt = '0.2f' if normalize else 'd'\n",
        "    thresh = cm.max() / 2.\n",
        "    for i in range(cm.shape[0]):\n",
        "        for j in range(cm.shape[1]):\n",
        "            ax.text(j, i, format(cm[i, j], fmt),\n",
        "                ha=\"center\", va=\"center\", fontsize=16,\n",
        "                color=\"white\" if cm[i, j] > thresh else \"black\")\n",
        "    fig.tight_layout()\n",
        "\n",
        "    return ax\n",
        "\n",
        "#FIM DA DEFINIÇÃO DA MATRIZ DE CONFUSAO"
      ]
    },
    {
      "cell_type": "code",
      "execution_count": null,
      "metadata": {
        "colab": {
          "base_uri": "https://localhost:8080/",
          "height": 436
        },
        "id": "P5m0UJVrKDGM",
        "outputId": "13bba7ad-b1ee-4e52-c563-4d7fdd21edbf"
      },
      "outputs": [
        {
          "name": "stdout",
          "output_type": "stream",
          "text": [
            "Normalized confusion matrix\n",
            "[[0.91891892 0.08108108 0.         0.         0.         0.        ]\n",
            " [0.07594937 0.82278481 0.10126582 0.         0.         0.        ]\n",
            " [0.         0.06451613 0.92473118 0.01075269 0.         0.        ]\n",
            " [0.         0.         0.05194805 0.94805195 0.         0.        ]\n",
            " [0.         0.         0.         0.11904762 0.78571429 0.0952381 ]\n",
            " [0.         0.         0.         0.01204819 0.03614458 0.95180723]]\n"
          ]
        },
        {
          "data": {
            "text/plain": [
              "<matplotlib.axes._subplots.AxesSubplot at 0x7f7d19fda550>"
            ]
          },
          "execution_count": 62,
          "metadata": {},
          "output_type": "execute_result"
        },
        {
          "data": {
            "image/png": "[encoded data removed]",
            "text/plain": [
              "<Figure size 432x288 with 2 Axes>"
            ]
          },
          "metadata": {},
          "output_type": "display_data"
        }
      ],
      "source": [
        "plot_confusion_matrix(y_test, y_pred_labels, classes=['Balanced','1%','2%','3%','4%','5%'], normalize = True, title = 'Confusion Matrix')"
      ]
    },
    {
      "cell_type": "code",
      "execution_count": null,
      "metadata": {
        "colab": {
          "base_uri": "https://localhost:8080/",
          "height": 287
        },
        "id": "vx3OVKwmJSzK",
        "outputId": "51c296f9-d636-4e24-9c96-62c5ec380063"
      },
      "outputs": [
        {
          "ename": "TypeError",
          "evalue": "ignored",
          "output_type": "error",
          "traceback": [
            "\u001b[0;31m---------------------------------------------------------------------------\u001b[0m",
            "\u001b[0;31mTypeError\u001b[0m                                 Traceback (most recent call last)",
            "\u001b[0;32m<ipython-input-227-349ca529bdb0>\u001b[0m in \u001b[0;36m<module>\u001b[0;34m()\u001b[0m\n\u001b[0;32m----> 1\u001b[0;31m \u001b[0mplot_confusion_matrix\u001b[0m\u001b[0;34m(\u001b[0m\u001b[0my_test\u001b[0m\u001b[0;34m,\u001b[0m \u001b[0my_pred_labels\u001b[0m\u001b[0;34m,\u001b[0m \u001b[0mclasses\u001b[0m\u001b[0;34m=\u001b[0m\u001b[0;34m[\u001b[0m\u001b[0;34m'Balanced'\u001b[0m\u001b[0;34m,\u001b[0m\u001b[0;34m'3%'\u001b[0m\u001b[0;34m,\u001b[0m\u001b[0;34m'4%'\u001b[0m\u001b[0;34m,\u001b[0m\u001b[0;34m'5%'\u001b[0m\u001b[0;34m]\u001b[0m\u001b[0;34m,\u001b[0m \u001b[0mnormalize\u001b[0m \u001b[0;34m=\u001b[0m \u001b[0;32mTrue\u001b[0m\u001b[0;34m,\u001b[0m \u001b[0mtitle\u001b[0m \u001b[0;34m=\u001b[0m \u001b[0;34m'Confusion Matrix'\u001b[0m\u001b[0;34m)\u001b[0m\u001b[0;34m\u001b[0m\u001b[0;34m\u001b[0m\u001b[0m\n\u001b[0m",
            "\u001b[0;32m<ipython-input-226-11dbcf7dc9d5>\u001b[0m in \u001b[0;36mplot_confusion_matrix\u001b[0;34m(y_true, y_pred, classes, normalize, title, cmap)\u001b[0m\n\u001b[1;32m     15\u001b[0m \u001b[0;34m\u001b[0m\u001b[0m\n\u001b[1;32m     16\u001b[0m     \u001b[0;31m# Compute confusion matrix\u001b[0m\u001b[0;34m\u001b[0m\u001b[0;34m\u001b[0m\u001b[0;34m\u001b[0m\u001b[0m\n\u001b[0;32m---> 17\u001b[0;31m     \u001b[0mcm\u001b[0m \u001b[0;34m=\u001b[0m \u001b[0mconfusion_matrix\u001b[0m\u001b[0;34m(\u001b[0m\u001b[0my_true\u001b[0m\u001b[0;34m,\u001b[0m \u001b[0my_pred\u001b[0m\u001b[0;34m)\u001b[0m\u001b[0;34m\u001b[0m\u001b[0;34m\u001b[0m\u001b[0m\n\u001b[0m\u001b[1;32m     18\u001b[0m     \u001b[0;31m#classes = classes[unique_labels(y_true, y_pred)]\u001b[0m\u001b[0;34m\u001b[0m\u001b[0;34m\u001b[0m\u001b[0;34m\u001b[0m\u001b[0m\n\u001b[1;32m     19\u001b[0m     \u001b[0;31m# Only use the labels that appear in the data\u001b[0m\u001b[0;34m\u001b[0m\u001b[0;34m\u001b[0m\u001b[0;34m\u001b[0m\u001b[0m\n",
            "\u001b[0;31mTypeError\u001b[0m: 'numpy.ndarray' object is not callable"
          ]
        }
      ],
      "source": [
        "plot_confusion_matrix(y_test, y_pred_labels, classes=['Balanced','3%','4%','5%'], normalize = True, title = 'Confusion Matrix')"
      ]
    },
    {
      "cell_type": "markdown",
      "metadata": {
        "id": "uYwG8FFicWKS"
      },
      "source": [
        "#IMAGENS\n"
      ]
    },
    {
      "cell_type": "code",
      "execution_count": null,
      "metadata": {
        "colab": {
          "base_uri": "https://localhost:8080/",
          "height": 699
        },
        "id": "tLvG4v-hcayD",
        "outputId": "cd4ead72-f26d-4653-fd62-6052a69b5781"
      },
      "outputs": [
        {
          "data": {
            "image/png": "[encoded data removed]",
            "text/plain": [
              "<Figure size 2160x864 with 1 Axes>"
            ]
          },
          "metadata": {},
          "output_type": "display_data"
        }
      ],
      "source": [
        "fig, ax = plt.subplots()\n",
        "\n",
        "ax.plot(xfinal[1])\n",
        "\n",
        "ax.set_xlim(-1,41)\n",
        "ax.set_ylim(-5,8.5)\n",
        "\n",
        "plt.rcParams[\"figure.figsize\"]=(30,12)"
      ]
    },
    {
      "cell_type": "code",
      "execution_count": null,
      "metadata": {
        "colab": {
          "base_uri": "https://localhost:8080/"
        },
        "id": "yJ9rn5jmdAKR",
        "outputId": "fa1de8e9-6c7d-47cb-b68f-fa4da7956a81"
      },
      "outputs": [
        {
          "name": "stdout",
          "output_type": "stream",
          "text": [
            "[ 3.18621885  1.83007094  0.30872123 -1.11650708 -0.44926876 -1.20874816\n",
            "  1.70431232  2.98671913  1.76015441 -2.56582952 -2.9200517  -3.26461745\n",
            " -4.00902419 -4.6559527  -4.6676461   2.78967474  3.         -1.36620153\n",
            "  2.8208194   2.3242139   2.74286074  7.52328506  8.33816268 -0.89248167\n",
            "  7.85386496 -0.87209658  1.95243757  0.40366922  0.65315852  0.76087418\n",
            "  0.9005275   0.39363789  2.31080617  2.03115329  1.00919842  2.37851163\n",
            "  3.40163419]\n"
          ]
        }
      ],
      "source": [
        "print(xfinal[1])"
      ]
    },
    {
      "cell_type": "code",
      "execution_count": null,
      "metadata": {
        "id": "I2SFwMptFIp4"
      },
      "outputs": [],
      "source": [
        "from numpy import exp, abs, angle\n",
        "from math import pi"
      ]
    },
    {
      "cell_type": "code",
      "execution_count": null,
      "metadata": {
        "id": "Wn8ef1MAd3QV"
      },
      "outputs": [],
      "source": [
        "scaler = MinMaxScaler(feature_range=(0,1))"
      ]
    },
    {
      "cell_type": "code",
      "execution_count": null,
      "metadata": {
        "id": "jvy3FvVOEDPP"
      },
      "outputs": [],
      "source": [
        "x_polar = scaler.fit_transform(xfinal)"
      ]
    },
    {
      "cell_type": "code",
      "execution_count": null,
      "metadata": {
        "id": "ba94sMPCF0fR"
      },
      "outputs": [],
      "source": [
        "resultr = []\n",
        "resultphi2 = []\n",
        "\n",
        "for i in range(0,len(xfinal[1])):\n",
        "  input_num = complex(i, xfinal[1,i]) # stored as 1+2j\n",
        "  r, phi = cmath.polar(input_num)\n",
        "  resultr.append(r)\n",
        "  resultphi2.append(phi)\n"
      ]
    },
    {
      "cell_type": "code",
      "execution_count": null,
      "metadata": {
        "colab": {
          "base_uri": "https://localhost:8080/"
        },
        "id": "70xua-k1gYAp",
        "outputId": "fe45d6b7-f9dd-4ecd-ee51-31a84146f152"
      },
      "outputs": [
        {
          "name": "stdout",
          "output_type": "stream",
          "text": [
            "[0.42393245 0.40992288 0.24728204 0.15047343 0.38009548 0.29673893\n",
            " 0.7758849  0.88785286 0.85496085 0.4435467  0.41977626 0.39673647\n",
            " 0.27639529 0.21166481 0.21938669 0.63060051 0.5        0.12898473\n",
            " 0.87412566 0.71108486 0.73776353 0.67655988 0.54397883 0.4154811\n",
            " 0.59631354 0.33886334 0.48810939 0.10091731 0.16328963 0.19021854\n",
            " 0.22513187 0.09840947 0.57770154 0.50778832 0.25229961 0.59462791\n",
            " 0.85040855]\n"
          ]
        }
      ],
      "source": [
        "print(x_polar[1])"
      ]
    },
    {
      "cell_type": "code",
      "execution_count": null,
      "metadata": {
        "colab": {
          "base_uri": "https://localhost:8080/"
        },
        "id": "LqI10JV7eumS",
        "outputId": "50a9636c-e516-4a48-e9bd-c06dae575ac0"
      },
      "outputs": [
        {
          "name": "stdout",
          "output_type": "stream",
          "text": [
            "[0.42393245027675797, 1.080757496549402, 2.0152291208354574, 3.0037713382114104, 4.018018488177043, 5.008797659556647, 6.049958460635688, 7.056081256764956, 8.045555174011541, 9.010923020192282, 10.008806727676397, 11.007152212273455, 12.003182676104467, 13.001723039408937, 14.00171884158176, 15.013249382026094, 16.00781059358212, 17.00048931828464, 18.021212380810464, 19.01330170366402, 20.013602749607106, 21.010895584616957, 22.006724267188275, 23.0037524014373, 24.007406978686745, 25.002296461795428, 26.00458134214239, 27.00018859753568, 28.000476129941664, 29.000623839751846, 30.000844727451398, 31.00015619999744, 32.00521424816791, 33.003906571505674, 34.00093609139427, 35.00505081195016, 36.01004296996398]\n"
          ]
        }
      ],
      "source": [
        "print(resultr)"
      ]
    },
    {
      "cell_type": "code",
      "execution_count": null,
      "metadata": {
        "colab": {
          "base_uri": "https://localhost:8080/"
        },
        "id": "7U86v5OUe9nt",
        "outputId": "f4d7f2af-26ac-4ab5-fedb-0987bcc0df89"
      },
      "outputs": [
        {
          "name": "stdout",
          "output_type": "stream",
          "text": [
            "[90.0, 22.289846218188867, 7.048337778967589, 2.871424398339198, 5.428167864887931, 3.3963938871212727, 7.368265490317225, 7.228576434634236, 6.100053018803969, 2.8214232404241253, 2.403729603072219, 2.0655887568450058, 1.319456997896971, 0.9328022320440928, 0.8977787519041837, 2.4072990061662525, 1.7899106082460694, 0.4347140565291027, 2.7802442064869735, 2.1433239515702662, 2.112578939193463, 1.8452677275965268, 1.4164246271271228, 1.0349010761735449, 1.4233008771768993, 0.7765700133931205, 1.0755124366062097, 0.2141521757051482, 0.3341321645163989, 0.3758125346209063, 0.42996213583404086, 0.18188478990364498, 1.0342582786466368, 0.8815706618237533, 0.4251599193724829, 0.9733254871640504, 1.3532155708059415]\n"
          ]
        }
      ],
      "source": [
        "print(resultphi)"
      ]
    },
    {
      "cell_type": "code",
      "execution_count": null,
      "metadata": {
        "id": "65G0STIpFKjv"
      },
      "outputs": [],
      "source": [
        "def z2polar(z):\n",
        "    return (abs(z), angle(z))"
      ]
    },
    {
      "cell_type": "code",
      "execution_count": null,
      "metadata": {
        "id": "iBWSKANWFODQ"
      },
      "outputs": [],
      "source": [
        "r, theta = z2polar(x[1,1])"
      ]
    },
    {
      "cell_type": "code",
      "execution_count": null,
      "metadata": {
        "id": "QhdUnMDLHDZK"
      },
      "outputs": [],
      "source": [
        "input_num2 = complex(3, x_polar[1,3])\n",
        "r, phi = cmath.polar(input_num2)"
      ]
    },
    {
      "cell_type": "code",
      "execution_count": null,
      "metadata": {
        "colab": {
          "base_uri": "https://localhost:8080/"
        },
        "id": "67SA3ovYJK8o",
        "outputId": "50a3b584-957e-40b9-b52e-10f99542159c"
      },
      "outputs": [
        {
          "data": {
            "text/plain": [
              "(1+1.8300709380000002j)"
            ]
          },
          "execution_count": 136,
          "metadata": {
            "tags": []
          },
          "output_type": "execute_result"
        }
      ],
      "source": [
        "input_num2"
      ]
    },
    {
      "cell_type": "code",
      "execution_count": null,
      "metadata": {
        "id": "M03XSEZHMnT4"
      },
      "outputs": [],
      "source": [
        "resultphi = []\n",
        "resultr = []\n",
        "\n",
        "for i in range(0,len(x_polar[1])):\n",
        "  input_num = complex(i, x_polar[1,i])\n",
        "  r, phi = cmath.polar(input_num)\n",
        "  #phi3 = math.acos(i/r)\n",
        "  degrees = phi* 180 / pi\n",
        "  resultr.append(r)\n",
        "  resultphi.append(degrees)\n"
      ]
    },
    {
      "cell_type": "code",
      "execution_count": null,
      "metadata": {
        "colab": {
          "base_uri": "https://localhost:8080/"
        },
        "id": "ox2-BPQ_MtwP",
        "outputId": "8f05e6bc-ad88-4dd9-97ca-bd6e7dc68630"
      },
      "outputs": [
        {
          "data": {
            "text/plain": [
              "0.9926791113426364"
            ]
          },
          "execution_count": 142,
          "metadata": {
            "tags": []
          },
          "output_type": "execute_result"
        }
      ],
      "source": [
        "phi3"
      ]
    },
    {
      "cell_type": "code",
      "execution_count": null,
      "metadata": {
        "id": "oA9iE0jhfOT7"
      },
      "outputs": [],
      "source": [
        "degrees = resultphi2[1]* 180 / pi"
      ]
    },
    {
      "cell_type": "code",
      "execution_count": null,
      "metadata": {
        "id": "ZB5hqeK9NJfV"
      },
      "outputs": [],
      "source": [
        "degrees = phi3* 180 / pi"
      ]
    },
    {
      "cell_type": "code",
      "execution_count": null,
      "metadata": {
        "colab": {
          "base_uri": "https://localhost:8080/"
        },
        "id": "qer6N40ANTfj",
        "outputId": "72b7d1a3-f6e7-4900-8bd6-cddf29810085"
      },
      "outputs": [
        {
          "data": {
            "text/plain": [
              "61.34662050237294"
            ]
          },
          "execution_count": 61,
          "metadata": {},
          "output_type": "execute_result"
        }
      ],
      "source": [
        "degrees"
      ]
    },
    {
      "cell_type": "code",
      "execution_count": null,
      "metadata": {
        "colab": {
          "base_uri": "https://localhost:8080/",
          "height": 238
        },
        "id": "2Bm2n9oX-ovP",
        "outputId": "0a446206-fa7b-4774-ba34-c7a3dabe47ff"
      },
      "outputs": [
        {
          "ename": "TypeError",
          "evalue": "ignored",
          "output_type": "error",
          "traceback": [
            "\u001b[0;31m---------------------------------------------------------------------------\u001b[0m",
            "\u001b[0;31mTypeError\u001b[0m                                 Traceback (most recent call last)",
            "\u001b[0;32m<ipython-input-140-379843b5b150>\u001b[0m in \u001b[0;36m<module>\u001b[0;34m()\u001b[0m\n\u001b[1;32m      2\u001b[0m \u001b[0;32mfor\u001b[0m \u001b[0mi\u001b[0m \u001b[0;32min\u001b[0m \u001b[0mrange\u001b[0m\u001b[0;34m(\u001b[0m\u001b[0;36m0\u001b[0m\u001b[0;34m,\u001b[0m\u001b[0mlen\u001b[0m\u001b[0;34m(\u001b[0m\u001b[0mx\u001b[0m\u001b[0;34m[\u001b[0m\u001b[0;36m1\u001b[0m\u001b[0;34m]\u001b[0m\u001b[0;34m)\u001b[0m\u001b[0;34m)\u001b[0m\u001b[0;34m:\u001b[0m\u001b[0;34m\u001b[0m\u001b[0;34m\u001b[0m\u001b[0m\n\u001b[1;32m      3\u001b[0m     \u001b[0mrho\u001b[0m \u001b[0;34m=\u001b[0m \u001b[0mnp\u001b[0m\u001b[0;34m.\u001b[0m\u001b[0msqrt\u001b[0m\u001b[0;34m(\u001b[0m\u001b[0mi\u001b[0m\u001b[0;34m**\u001b[0m\u001b[0;36m2\u001b[0m \u001b[0;34m+\u001b[0m \u001b[0mx\u001b[0m\u001b[0;34m[\u001b[0m\u001b[0;36m1\u001b[0m\u001b[0;34m,\u001b[0m\u001b[0mi\u001b[0m\u001b[0;34m]\u001b[0m\u001b[0;34m**\u001b[0m\u001b[0;36m2\u001b[0m\u001b[0;34m)\u001b[0m\u001b[0;34m\u001b[0m\u001b[0;34m\u001b[0m\u001b[0m\n\u001b[0;32m----> 4\u001b[0;31m     \u001b[0mphi\u001b[0m\u001b[0;34m,\u001b[0m\u001b[0mphi3\u001b[0m \u001b[0;34m=\u001b[0m \u001b[0mnp\u001b[0m\u001b[0;34m.\u001b[0m\u001b[0marccos\u001b[0m\u001b[0;34m(\u001b[0m\u001b[0mx\u001b[0m\u001b[0;34m[\u001b[0m\u001b[0;36m1\u001b[0m\u001b[0;34m,\u001b[0m\u001b[0mi\u001b[0m\u001b[0;34m]\u001b[0m\u001b[0;34m,\u001b[0m \u001b[0mi\u001b[0m\u001b[0;34m)\u001b[0m\u001b[0;34m\u001b[0m\u001b[0;34m\u001b[0m\u001b[0m\n\u001b[0m\u001b[1;32m      5\u001b[0m     \u001b[0mresultrho\u001b[0m\u001b[0;34m.\u001b[0m\u001b[0mappend\u001b[0m\u001b[0;34m(\u001b[0m\u001b[0mrho\u001b[0m\u001b[0;34m)\u001b[0m\u001b[0;34m\u001b[0m\u001b[0;34m\u001b[0m\u001b[0m\n\u001b[1;32m      6\u001b[0m     \u001b[0mresultphi\u001b[0m\u001b[0;34m.\u001b[0m\u001b[0mappend\u001b[0m\u001b[0;34m(\u001b[0m\u001b[0mphi\u001b[0m\u001b[0;34m)\u001b[0m\u001b[0;34m\u001b[0m\u001b[0;34m\u001b[0m\u001b[0m\n",
            "\u001b[0;31mTypeError\u001b[0m: return arrays must be of ArrayType"
          ]
        }
      ],
      "source": [
        "\n",
        "for i in range(0,len(x[1])):\n",
        "    rho = np.sqrt(i**2 + x[1,i]**2)\n",
        "    phi = np.arccos(x[1,i], i)\n",
        "    resultrho.append(rho)\n",
        "    resultphi.append(phi)\n",
        "    #return(rho, phi)"
      ]
    },
    {
      "cell_type": "code",
      "execution_count": null,
      "metadata": {
        "id": "cE2bkjTgCoIW"
      },
      "outputs": [],
      "source": [
        "dfphi = DataFrame(resultphi)"
      ]
    },
    {
      "cell_type": "code",
      "execution_count": null,
      "metadata": {
        "colab": {
          "base_uri": "https://localhost:8080/"
        },
        "id": "G0drJWVgCZyR",
        "outputId": "6580a487-722a-4919-f0a5-58fb45da6701"
      },
      "outputs": [
        {
          "data": {
            "text/plain": [
              "(15, 1)"
            ]
          },
          "execution_count": 93,
          "metadata": {
            "tags": []
          },
          "output_type": "execute_result"
        }
      ],
      "source": [
        "dfphi.shape"
      ]
    },
    {
      "cell_type": "code",
      "execution_count": null,
      "metadata": {
        "id": "kz0NnZuZBCzv"
      },
      "outputs": [],
      "source": [
        "dfrho = DataFrame(resultrho)"
      ]
    },
    {
      "cell_type": "code",
      "execution_count": null,
      "metadata": {
        "colab": {
          "base_uri": "https://localhost:8080/"
        },
        "id": "3XD3KOt2FXNZ",
        "outputId": "f0cfcfe7-83b7-42a6-c323-cf28bc881dd5"
      },
      "outputs": [
        {
          "name": "stdout",
          "output_type": "stream",
          "text": [
            "3.080369344848013\n"
          ]
        }
      ],
      "source": [
        "print(r)"
      ]
    },
    {
      "cell_type": "code",
      "execution_count": null,
      "metadata": {
        "colab": {
          "base_uri": "https://localhost:8080/"
        },
        "id": "fkp9hugKAk3X",
        "outputId": "7379e81c-116b-42ed-b46f-965bc551982a"
      },
      "outputs": [
        {
          "name": "stdout",
          "output_type": "stream",
          "text": [
            "[3.186218851, 2.0854638903879876, 2.023686932541673, 3.2010292195098993, 4.025151228962252, 5.144032670650613, 6.2373616594253445, 7.610551306664659, 8.191345649344951, 9.358604656160471, 10.417614982558762, 11.474220107780138, 12.65196723660021, 13.808616713318006, 14.75760550198393]\n"
          ]
        }
      ],
      "source": [
        "print(resultrho[:15])"
      ]
    },
    {
      "cell_type": "code",
      "execution_count": null,
      "metadata": {
        "colab": {
          "base_uri": "https://localhost:8080/"
        },
        "id": "UHeH3F4NPDP8",
        "outputId": "e5243e24-79cf-4391-ac25-8ccf0ce0caf5"
      },
      "outputs": [
        {
          "name": "stdout",
          "output_type": "stream",
          "text": [
            "[0.42393245027675797, 1.080757496549402, 2.0152291208354574, 3.0037713382114104, 4.018018488177043, 5.008797659556647, 6.049958460635688, 7.056081256764956, 8.045555174011541, 9.010923020192282, 10.008806727676397, 11.007152212273455, 12.003182676104467, 13.001723039408937, 14.00171884158176, 15.007939591432933, 16.00031825628777, 17.000784202601743, 18.001005057906717, 19.00133375215141, 20.00024210914057, 21.007944665557606, 22.005859423814268, 23.001383764701586, 24.007365168781284, 25.014459712307453, 26.003242731499768, 27.007296743199817, 28.00446392988089, 29.00028684446259, 30.01273222607826, 31.00815443838206, 32.00850347984237, 33.0069346239192, 34.00431610728475, 35.00238786833996, 36.00493840906129, 37.00155170210444, 38.000727767027904, 39.00216189589105]\n"
          ]
        }
      ],
      "source": [
        "print(resultr)"
      ]
    },
    {
      "cell_type": "code",
      "execution_count": null,
      "metadata": {
        "colab": {
          "base_uri": "https://localhost:8080/"
        },
        "id": "oUgbZ_fWCTOQ",
        "outputId": "765b1b10-3788-402b-c7ae-c99d2b00fda7"
      },
      "outputs": [
        {
          "name": "stdout",
          "output_type": "stream",
          "text": [
            "[90.0, 22.289846218188885, 7.0483377789676, 2.871424398339176, 5.428167864887914, 3.3963938871213597, 7.368265490317241, 7.228576434634231, 6.100053018803974, 2.821423240424176, 2.4037296030722053, 2.065588756844909, 1.3194569978970905, 0.9328022320441433, 0.8977787519042482, 1.863782883356432, 0.361378687235332, 0.550324644493961, 0.605461895537646, 0.6788685569382507, 0.2819200961825813, 1.5757863900652331, 1.322225583460723, 0.6284836001305917, 1.4192791947934282, 1.9482416141372447, 0.9048651950311384, 1.3318992722821503, 1.023030188667591, 0.2548355875085438, 1.6689848281725328, 1.314032832451937, 1.3207265361447116, 1.1745029022928575, 0.9128960276711674, 0.669262438464334, 0.9489756929713546, 0.5247269304761086, 0.3545998553817734, 0.603271326863542]\n"
          ]
        }
      ],
      "source": [
        "print(resultphi)"
      ]
    },
    {
      "cell_type": "code",
      "execution_count": null,
      "metadata": {
        "colab": {
          "base_uri": "https://localhost:8080/",
          "height": 867
        },
        "id": "C7-iU0Nx9A_d",
        "outputId": "34545e59-7d0a-4fef-bdd6-5caa37ec978e"
      },
      "outputs": [
        {
          "ename": "ValueError",
          "evalue": "ignored",
          "output_type": "error",
          "traceback": [
            "\u001b[0;31m---------------------------------------------------------------------------\u001b[0m",
            "\u001b[0;31mValueError\u001b[0m                                Traceback (most recent call last)",
            "\u001b[0;32m<ipython-input-68-b1a9bc218190>\u001b[0m in \u001b[0;36m<module>\u001b[0;34m()\u001b[0m\n\u001b[0;32m----> 1\u001b[0;31m \u001b[0mfig\u001b[0m \u001b[0;34m,\u001b[0m \u001b[0max\u001b[0m \u001b[0;34m=\u001b[0m \u001b[0mplt\u001b[0m\u001b[0;34m.\u001b[0m\u001b[0mpolar\u001b[0m\u001b[0;34m(\u001b[0m\u001b[0mresultphi\u001b[0m\u001b[0;34m,\u001b[0m\u001b[0mresultr\u001b[0m\u001b[0;34m)\u001b[0m\u001b[0;34m\u001b[0m\u001b[0;34m\u001b[0m\u001b[0m\n\u001b[0m",
            "\u001b[0;31mValueError\u001b[0m: not enough values to unpack (expected 2, got 1)"
          ]
        },
        {
          "data": {
            "image/png": "[encoded data removed]",
            "text/plain": [
              "<Figure size 2160x864 with 1 Axes>"
            ]
          },
          "metadata": {},
          "output_type": "display_data"
        }
      ],
      "source": [
        "fig , ax = plt.polar(resultphi,resultr)"
      ]
    },
    {
      "cell_type": "markdown",
      "metadata": {
        "id": "MupU9QA6bGtW"
      },
      "source": []
    },
    {
      "cell_type": "markdown",
      "metadata": {
        "id": "HxRPQwftbGvG"
      },
      "source": [
        "# CNN EXPERIMENTS\n"
      ]
    },
    {
      "cell_type": "code",
      "execution_count": null,
      "metadata": {
        "id": "odicqB_fcMQQ"
      },
      "outputs": [],
      "source": [
        "y = np.ones((1574), dtype=np.int32)\n",
        "\n",
        "y[:283] = 0\n",
        "y[283:548] = 1\n",
        "y[548:825] = 2\n",
        "y[825:1099] = 3\n",
        "y[1099:1371] = 4\n",
        "y[1371:1574] = 5"
      ]
    },
    {
      "cell_type": "code",
      "execution_count": null,
      "metadata": {
        "id": "I4v_1QPhbLM4"
      },
      "outputs": [],
      "source": [
        "x0 = data95[:87,:] #03\n",
        "x1 = data96[:185,:] #03\n",
        "x2 = data97[:197,:] #05\n",
        "x3 = data98[:75,:] #03\n",
        "x4 = data99[:204,:] #03\n",
        "x5 = datanormal[:203,:] #normal\n",
        "x6 = data101[:79,:] #03\n",
        "x7 = data102[:190,:] #03\n",
        "x8 = data103[:80,:] #03\n",
        "x9 = data104[:89,:] #03\n",
        "x10 = data105[:185,:] #105\n",
        "\n",
        "\n",
        "x = np.concatenate((x0,x1,x2,x3,x4,x5,x6,x7,x8,x9,x10), axis=0)\n",
        "\n",
        "y = np.ones((1574), dtype=np.int32)\n",
        "\n",
        "y[:87] = 1\n",
        "y[87:272] = 2\n",
        "y[272:469] = 3\n",
        "y[469:544] = 4\n",
        "y[544:748] = 5\n",
        "y[748:951] = 6\n",
        "y[951:1030] = 7\n",
        "y[1030:1220] = 8\n",
        "y[1220:1300] = 9\n",
        "y[1300:1389] = 10\n",
        "y[1389:1574] = 11"
      ]
    },
    {
      "cell_type": "code",
      "execution_count": null,
      "metadata": {
        "id": "4GgalZYqbXsp"
      },
      "outputs": [],
      "source": [
        "classenormal = x5\n",
        "classe01 = np.concatenate((x4,x6))\n",
        "classe02 = np.concatenate((x3,x7))\n",
        "classe03 = np.concatenate((x2,x8))\n",
        "classe04 = np.concatenate((x1,x9))\n",
        "classe05 = np.concatenate((x0,x10))\n",
        "\n",
        "cnntest = np.concatenate((classe01,classe02,classe03,classe04,classe05,classenormal))"
      ]
    },
    {
      "cell_type": "code",
      "execution_count": null,
      "metadata": {
        "colab": {
          "base_uri": "https://localhost:8080/"
        },
        "id": "RN-uzsoZcHrr",
        "outputId": "8b4ce867-a0ad-469a-d29a-c1cf1b6458f3"
      },
      "outputs": [
        {
          "data": {
            "text/plain": [
              "(1574, 15)"
            ]
          },
          "execution_count": 30,
          "metadata": {},
          "output_type": "execute_result"
        }
      ],
      "source": [
        "cnntest.shape"
      ]
    }
  ],
  "metadata": {
    "colab": {
      "provenance": [],
      "include_colab_link": true
    },
    "kernelspec": {
      "display_name": "Python 3",
      "name": "python3"
    },
    "language_info": {
      "name": "python"
    }
  },
  "nbformat": 4,
  "nbformat_minor": 0
}