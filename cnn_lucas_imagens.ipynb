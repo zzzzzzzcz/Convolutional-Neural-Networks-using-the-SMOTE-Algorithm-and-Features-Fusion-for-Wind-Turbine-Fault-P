{
  "cells": [
    {
      "cell_type": "markdown",
      "metadata": {
        "id": "view-in-github",
        "colab_type": "text"
      },
      "source": [
        "<a href=\"https://colab.research.google.com/github/zzzzzzzcz/New-Images-Generation-Lucas-/blob/main/cnn_lucas_imagens.ipynb\" target=\"_parent\"><img src=\"https://colab.research.google.com/assets/colab-badge.svg\" alt=\"Open In Colab\"/></a>"
      ]
    },
    {
      "cell_type": "markdown",
      "metadata": {
        "id": "rF1cjBFZY-X8"
      },
      "source": []
    },
    {
      "cell_type": "code",
      "execution_count": null,
      "metadata": {
        "colab": {
          "base_uri": "https://localhost:8080/"
        },
        "id": "kVV2CG3XQUO7",
        "outputId": "604a6430-f346-4dff-d0b5-1d34b87e185a"
      },
      "outputs": [
        {
          "output_type": "stream",
          "name": "stdout",
          "text": [
            "Drive already mounted at /content/drive; to attempt to forcibly remount, call drive.mount(\"/content/drive\", force_remount=True).\n"
          ]
        }
      ],
      "source": [
        "from google.colab import drive\n",
        "drive.mount('/content/drive')\n",
        "\n",
        "import pandas as pd\n",
        "import numpy as np"
      ]
    },
    {
      "cell_type": "code",
      "execution_count": null,
      "metadata": {
        "colab": {
          "base_uri": "https://localhost:8080/"
        },
        "id": "Ky2tl85ktXW2",
        "outputId": "4d6ebfbf-9f9f-4350-b139-5eed8b5d3cb6"
      },
      "outputs": [
        {
          "output_type": "stream",
          "name": "stdout",
          "text": [
            "Requirement already satisfied: pyts in /usr/local/lib/python3.10/dist-packages (0.13.0)\n",
            "Requirement already satisfied: numpy>=1.22.4 in /usr/local/lib/python3.10/dist-packages (from pyts) (1.26.4)\n",
            "Requirement already satisfied: scipy>=1.8.1 in /usr/local/lib/python3.10/dist-packages (from pyts) (1.13.1)\n",
            "Requirement already satisfied: scikit-learn>=1.2.0 in /usr/local/lib/python3.10/dist-packages (from pyts) (1.6.0)\n",
            "Requirement already satisfied: joblib>=1.1.1 in /usr/local/lib/python3.10/dist-packages (from pyts) (1.4.2)\n",
            "Requirement already satisfied: numba>=0.55.2 in /usr/local/lib/python3.10/dist-packages (from pyts) (0.60.0)\n",
            "Requirement already satisfied: llvmlite<0.44,>=0.43.0dev0 in /usr/local/lib/python3.10/dist-packages (from numba>=0.55.2->pyts) (0.43.0)\n",
            "Requirement already satisfied: threadpoolctl>=3.1.0 in /usr/local/lib/python3.10/dist-packages (from scikit-learn>=1.2.0->pyts) (3.5.0)\n"
          ]
        }
      ],
      "source": [
        "!pip install pyts"
      ]
    },
    {
      "cell_type": "code",
      "execution_count": null,
      "metadata": {
        "id": "I6dN1FciMgxr"
      },
      "outputs": [],
      "source": [
        "import math\n",
        "from sklearn.metrics import confusion_matrix, classification_report\n",
        "from sklearn.metrics import confusion_matrix\n",
        "from sklearn import svm"
      ]
    },
    {
      "cell_type": "code",
      "execution_count": null,
      "metadata": {
        "id": "6AM5aW_WtXW4"
      },
      "outputs": [],
      "source": [
        "import matplotlib.pyplot as plt\n",
        "from mpl_toolkits.axes_grid1 import ImageGrid\n",
        "from pyts.image import GramianAngularField\n",
        "from pyts.datasets import load_gunpoint\n",
        "import matplotlib.pyplot as plt\n",
        "from pyts.image import MarkovTransitionField\n",
        "from tensorflow.keras.utils import to_categorical\n",
        "from pyts.image import RecurrencePlot\n",
        "from pyts.datasets import load_gunpoint"
      ]
    },
    {
      "cell_type": "code",
      "execution_count": null,
      "metadata": {
        "colab": {
          "base_uri": "https://localhost:8080/"
        },
        "id": "tlP9yQhtHGIw",
        "outputId": "53adcf8d-c71a-4e99-b794-7491d59ab98a"
      },
      "outputs": [
        {
          "output_type": "stream",
          "name": "stdout",
          "text": [
            "0.12.4\n"
          ]
        }
      ],
      "source": [
        "import imblearn\n",
        "from imblearn.over_sampling import SMOTE\n",
        "from imblearn.over_sampling import RandomOverSampler\n",
        "from imblearn.over_sampling import ADASYN\n",
        "from imblearn.under_sampling import NearMiss\n",
        "print(imblearn.__version__)"
      ]
    },
    {
      "cell_type": "code",
      "execution_count": null,
      "metadata": {
        "id": "xAbRwVtj81d1"
      },
      "outputs": [],
      "source": [
        "from sklearn import datasets\n",
        "from sklearn.ensemble import AdaBoostClassifier,VotingClassifier\n",
        "from sklearn.tree import DecisionTreeClassifier\n",
        "from sklearn.svm import SVC\n",
        "import tensorflow as tf\n",
        "from tensorflow.keras.preprocessing import image\n",
        "import numpy as np\n",
        "import keras\n",
        "from tensorflow.keras.callbacks import EarlyStopping\n"
      ]
    },
    {
      "cell_type": "code",
      "execution_count": null,
      "metadata": {
        "id": "obNuw09dejmv"
      },
      "outputs": [],
      "source": [
        "import numpy as np\n",
        "import matplotlib.pyplot as plt\n",
        "from matplotlib.colors import ListedColormap\n",
        "from sklearn.model_selection import train_test_split\n",
        "from sklearn.preprocessing import StandardScaler\n",
        "from sklearn.datasets import make_moons, make_circles, make_classification\n",
        "from sklearn.neural_network import MLPClassifier\n",
        "from sklearn.neighbors import KNeighborsClassifier\n",
        "from sklearn.svm import SVC\n",
        "from sklearn.gaussian_process import GaussianProcessClassifier\n",
        "from sklearn.gaussian_process.kernels import RBF\n",
        "from sklearn.tree import DecisionTreeClassifier\n",
        "from sklearn.ensemble import RandomForestClassifier, AdaBoostClassifier\n",
        "from sklearn.naive_bayes import GaussianNB\n",
        "from sklearn.discriminant_analysis import QuadraticDiscriminantAnalysis"
      ]
    },
    {
      "cell_type": "code",
      "execution_count": null,
      "metadata": {
        "id": "73iKcz6pYyaf"
      },
      "outputs": [],
      "source": [
        "import math\n",
        "import pandas as pd\n",
        "import matplotlib.pyplot as plt\n",
        "import seaborn as sns\n",
        "import cmath\n",
        "import pandas as pd\n",
        "import numpy as np\n",
        "import matplotlib.pyplot as plt\n",
        "from sklearn.preprocessing import MinMaxScaler\n",
        "from sklearn.model_selection import train_test_split\n",
        "from sklearn.metrics import accuracy_score\n",
        "from sklearn.model_selection import GridSearchCV\n",
        "from sklearn.svm import SVC\n",
        "from sklearn.decomposition import PCA\n",
        "from sklearn.metrics import confusion_matrix, classification_report\n",
        "from sklearn.discriminant_analysis import LinearDiscriminantAnalysis\n",
        "from sklearn.metrics import confusion_matrix\n",
        "import cv2"
      ]
    },
    {
      "cell_type": "code",
      "execution_count": null,
      "metadata": {
        "id": "Ebdv2arDwGQL"
      },
      "outputs": [],
      "source": [
        "import matplotlib.pyplot as plt\n",
        "from pyts.image import MarkovTransitionField\n",
        "from pyts.datasets import load_gunpoint"
      ]
    },
    {
      "cell_type": "code",
      "execution_count": null,
      "metadata": {
        "id": "FgDKngoMeLCB"
      },
      "outputs": [],
      "source": [
        "cols95 = np.arange(1, 86+2,1)\n",
        "cols96 = np.arange(1, 184 +2,1)\n",
        "cols97 = np.arange(1, 196 +2,1)\n",
        "cols98 = np.arange(1, 74 +2,1)\n",
        "cols99 = np.arange(1, 203 +2,1)\n",
        "colsnormal = np.arange(1, 202 +2,1)\n",
        "cols101 = np.arange(1, 78 +2,1)\n",
        "cols102 = np.arange(1, 189 +2,1)\n",
        "cols103 = np.arange(1,  79+2,1)\n",
        "cols104 = np.arange(1, 88 +2,1)\n",
        "cols105 = np.arange(1, 184 +2,1)\n",
        "finalcols = np.arange(1, 1+2,1)"
      ]
    },
    {
      "cell_type": "code",
      "execution_count": null,
      "metadata": {
        "id": "zDeyYi_kecqz"
      },
      "outputs": [],
      "source": [
        "data95 = pd.read_csv(r'/content/drive/My Drive/Shweta/PSD data/psd_95.csv',header=0, sep=';', usecols=cols95)\n",
        "data95 = data95.transpose()"
      ]
    },
    {
      "cell_type": "code",
      "execution_count": null,
      "metadata": {
        "id": "iOtfbzPwiLuo"
      },
      "outputs": [],
      "source": [
        "data96 = pd.read_csv(r'/content/drive/My Drive/Shweta/PSD data/psd_96.csv',header=0, sep=';', usecols=cols96)\n",
        "data96 = data96.transpose()"
      ]
    },
    {
      "cell_type": "code",
      "execution_count": null,
      "metadata": {
        "id": "pbSEJ3ov77S-"
      },
      "outputs": [],
      "source": [
        "data103 = pd.read_csv(r'/content/drive/My Drive/Shweta/PSD data/psd_103.csv',header=0, sep=';', usecols=cols103)\n",
        "data103 = data103.transpose()"
      ]
    },
    {
      "cell_type": "code",
      "execution_count": null,
      "metadata": {
        "id": "1G9DaeFRiS4x"
      },
      "outputs": [],
      "source": [
        "data104 = pd.read_csv(r'/content/drive/My Drive/Shweta/PSD data/psd_104.csv',header=0, sep=';', usecols=cols104)\n",
        "data104 = data104.transpose()"
      ]
    },
    {
      "cell_type": "code",
      "execution_count": null,
      "metadata": {
        "id": "bsTUqoHSX0aw"
      },
      "outputs": [],
      "source": [
        "data98 = pd.read_csv(r'/content/drive/My Drive/Shweta/PSD data/psd_98.csv',header=0, sep=';', usecols=cols98)\n",
        "data98 = data98.transpose()"
      ]
    },
    {
      "cell_type": "code",
      "execution_count": null,
      "metadata": {
        "id": "bkdpoZ7GX0nJ"
      },
      "outputs": [],
      "source": [
        "data102 = pd.read_csv(r'/content/drive/My Drive/Shweta/PSD data/psd_102.csv',header=0, sep=';', usecols=cols102)\n",
        "data102 = data102.transpose()"
      ]
    },
    {
      "cell_type": "code",
      "execution_count": null,
      "metadata": {
        "id": "kk4wOSZphng2"
      },
      "outputs": [],
      "source": [
        "data99 = pd.read_csv(r'/content/drive/My Drive/Shweta/PSD data/psd_99.csv',header=0, sep=';', usecols=cols99)\n",
        "data99 = data99.transpose()"
      ]
    },
    {
      "cell_type": "code",
      "execution_count": null,
      "metadata": {
        "id": "GkCmVGuHhnob"
      },
      "outputs": [],
      "source": [
        "data101 = pd.read_csv(r'/content/drive/My Drive/Shweta/PSD data/psd_101.csv',header=0, sep=';', usecols=cols101)\n",
        "data101 = data101.transpose()"
      ]
    },
    {
      "cell_type": "code",
      "execution_count": null,
      "metadata": {
        "id": "u4eyvSuRShwo"
      },
      "outputs": [],
      "source": [
        "data97 = pd.read_csv(r'/content/drive/My Drive/Shweta/PSD data/psd_97.csv',header=0, sep=';', usecols=cols97)\n",
        "data97 = data97.transpose()"
      ]
    },
    {
      "cell_type": "code",
      "execution_count": null,
      "metadata": {
        "id": "8hn9SMLJ_JV7"
      },
      "outputs": [],
      "source": [
        "datanormal = pd.read_csv(r'/content/drive/My Drive/Shweta/PSD data/psd_100.csv',header=0, sep=';', usecols=colsnormal)\n",
        "datanormal = datanormal.transpose()"
      ]
    },
    {
      "cell_type": "code",
      "execution_count": null,
      "metadata": {
        "id": "iOCnSYHlvCDo"
      },
      "outputs": [],
      "source": [
        "data105 = pd.read_csv(r'/content/drive/My Drive/Shweta/PSD data/psd_105.csv',header=0, sep=';', usecols=cols105)\n",
        "data105 = data105.transpose()"
      ]
    },
    {
      "cell_type": "code",
      "execution_count": null,
      "metadata": {
        "id": "qCdEIrX8CP77"
      },
      "outputs": [],
      "source": [
        "final = pd.read_csv(r'/content/drive/My Drive/results6.csv',header=0, sep=',',index_col=0)"
      ]
    },
    {
      "cell_type": "code",
      "execution_count": null,
      "metadata": {
        "id": "i796WJ2yTAYv"
      },
      "outputs": [],
      "source": [
        "finalpsd = pd.read_csv(r'/content/drive/My Drive/resultspsdcerto2.csv',header=0, sep=',',index_col=0)"
      ]
    },
    {
      "cell_type": "code",
      "execution_count": null,
      "metadata": {
        "id": "VykKnKhlEgpF"
      },
      "outputs": [],
      "source": [
        "final = np.array(final)"
      ]
    },
    {
      "cell_type": "code",
      "execution_count": null,
      "metadata": {
        "id": "FCzqKvT3QHJr"
      },
      "outputs": [],
      "source": [
        "scaler = MinMaxScaler(feature_range=(0,4))"
      ]
    },
    {
      "cell_type": "code",
      "execution_count": null,
      "metadata": {
        "id": "CT1QLraBRX6x"
      },
      "outputs": [],
      "source": [
        "final = scaler.fit_transform(final)"
      ]
    },
    {
      "cell_type": "code",
      "execution_count": null,
      "metadata": {
        "id": "ECzjIMK7BVii"
      },
      "outputs": [],
      "source": [
        "data95 = np.array(data95)\n",
        "data96 = np.array(data96)\n",
        "data97 = np.array(data97)\n",
        "data98 = np.array(data98)\n",
        "data99 = np.array(data99)\n",
        "datanormal = np.array(datanormal)\n",
        "data101 = np.array(data101)\n",
        "data102 = np.array(data102)\n",
        "data103 = np.array(data103)\n",
        "data104 = np.array(data104)\n",
        "data105 = np.array(data105)"
      ]
    },
    {
      "cell_type": "code",
      "execution_count": null,
      "metadata": {
        "id": "xN_zh1t-8vkf"
      },
      "outputs": [],
      "source": [
        "x0 = data95[:87,:] #03\n",
        "x1 = data96[:185,:] #03\n",
        "x2 = data97[:197,:] #05\n",
        "x3 = data98[:75,:] #03\n",
        "x4 = data99[:204,:] #03\n",
        "x5 = datanormal[:203,:] #normal\n",
        "x6 = data101[:79,:] #03\n",
        "x7 = data102[:190,:] #03\n",
        "x8 = data103[:80,:] #03\n",
        "x9 = data104[:89,:] #03\n",
        "x10 = data105[:185,:] #105\n",
        "\n",
        "x = np.concatenate((x0,x1,x2,x3,x4,x5,x6,x7,x8,x9,x10), axis=0)\n",
        "\n",
        "y = np.ones((1574), dtype=np.int32)\n",
        "\n",
        "y[:87] = 1\n",
        "y[87:272] = 2\n",
        "y[272:469] = 3\n",
        "y[469:544] = 4\n",
        "y[544:748] = 5\n",
        "y[748:951] = 6\n",
        "y[951:1030] = 7\n",
        "y[1030:1220] = 8\n",
        "y[1220:1300] = 9\n",
        "y[1300:1389] = 10\n",
        "y[1389:1574] = 11"
      ]
    },
    {
      "cell_type": "code",
      "execution_count": null,
      "metadata": {
        "id": "ILmJTHrrocbQ"
      },
      "outputs": [],
      "source": [
        "final95 = final[:87,:] #normal\n",
        "final96 = final[87:272,:] #96\n",
        "final97 = final[272:469,:] #96\n",
        "final98 = final[469:544,:] #96\n",
        "final99 = final[544:748,:] #96\n",
        "finalnormal = final[748:951,:] #normal\n",
        "final101 = final[951:1030,:] #96\n",
        "final102 = final[1030:1220,:] #96\n",
        "final103 = final[1220:1300,:]\n",
        "final104 = final[1300:1389,:] #96\n",
        "final105 = final[1389:1574,:] #105\n",
        "\n",
        "finaltudo = np.concatenate((final95, final96, final97, final98, final99, finalnormal,final101, final102, final103, final104, final105), axis=0)"
      ]
    },
    {
      "cell_type": "code",
      "execution_count": null,
      "metadata": {
        "id": "xW8gKW9Nh_I0"
      },
      "outputs": [],
      "source": []
    },
    {
      "cell_type": "code",
      "execution_count": null,
      "metadata": {
        "id": "35HximJsh_da"
      },
      "outputs": [],
      "source": [
        "oversample = SMOTE(sampling_strategy='all', k_neighbors=3, random_state=1)"
      ]
    },
    {
      "cell_type": "code",
      "execution_count": null,
      "metadata": {
        "colab": {
          "base_uri": "https://localhost:8080/"
        },
        "id": "WtpY7_iPh_db",
        "outputId": "d57af250-1ad1-4e90-a8b6-904e4201ce45"
      },
      "outputs": [
        {
          "output_type": "stream",
          "name": "stderr",
          "text": [
            "/usr/local/lib/python3.10/dist-packages/sklearn/base.py:474: FutureWarning: `BaseEstimator._validate_data` is deprecated in 1.6 and will be removed in 1.7. Use `sklearn.utils.validation.validate_data` instead. This function becomes public and is part of the scikit-learn developer API.\n",
            "  warnings.warn(\n",
            "/usr/local/lib/python3.10/dist-packages/sklearn/utils/_tags.py:354: FutureWarning: The SMOTE or classes from which it inherits use `_get_tags` and `_more_tags`. Please define the `__sklearn_tags__` method, or inherit from `sklearn.base.BaseEstimator` and/or other appropriate mixins such as `sklearn.base.TransformerMixin`, `sklearn.base.ClassifierMixin`, `sklearn.base.RegressorMixin`, and `sklearn.base.OutlierMixin`. From scikit-learn 1.7, not defining `__sklearn_tags__` will raise an error.\n",
            "  warnings.warn(\n"
          ]
        }
      ],
      "source": [
        "xf, y = oversample.fit_resample(finaltudo, y)"
      ]
    },
    {
      "cell_type": "code",
      "execution_count": null,
      "metadata": {
        "id": "89Pt93cNh_dd"
      },
      "outputs": [],
      "source": [
        "y = np.ones((1574), dtype=np.int32)\n",
        "\n",
        "y[:87] = 1\n",
        "y[87:272] = 2\n",
        "y[272:469] = 3\n",
        "y[469:544] = 4\n",
        "y[544:748] = 5\n",
        "y[748:951] = 6\n",
        "y[951:1030] = 7\n",
        "y[1030:1220] =8\n",
        "y[1220:1300] = 9\n",
        "y[1300:1389] = 10\n",
        "y[1389:1574] = 11"
      ]
    },
    {
      "cell_type": "code",
      "execution_count": null,
      "metadata": {
        "colab": {
          "base_uri": "https://localhost:8080/"
        },
        "id": "wVYzWK7Sh_de",
        "outputId": "29c9f8d6-ee8c-4332-dc74-7a0c6f888318"
      },
      "outputs": [
        {
          "output_type": "stream",
          "name": "stderr",
          "text": [
            "/usr/local/lib/python3.10/dist-packages/sklearn/base.py:474: FutureWarning: `BaseEstimator._validate_data` is deprecated in 1.6 and will be removed in 1.7. Use `sklearn.utils.validation.validate_data` instead. This function becomes public and is part of the scikit-learn developer API.\n",
            "  warnings.warn(\n",
            "/usr/local/lib/python3.10/dist-packages/sklearn/utils/_tags.py:354: FutureWarning: The SMOTE or classes from which it inherits use `_get_tags` and `_more_tags`. Please define the `__sklearn_tags__` method, or inherit from `sklearn.base.BaseEstimator` and/or other appropriate mixins such as `sklearn.base.TransformerMixin`, `sklearn.base.ClassifierMixin`, `sklearn.base.RegressorMixin`, and `sklearn.base.OutlierMixin`. From scikit-learn 1.7, not defining `__sklearn_tags__` will raise an error.\n",
            "  warnings.warn(\n"
          ]
        }
      ],
      "source": [
        "x, y = oversample.fit_resample(x, y)"
      ]
    },
    {
      "cell_type": "code",
      "execution_count": null,
      "metadata": {
        "id": "RA8qDq_kh_df"
      },
      "outputs": [],
      "source": [
        "x0f = np.concatenate((xf[:87],xf[1574:1691]))\n",
        "x1f = np.concatenate((xf[87:272],xf[1691:1710]))\n",
        "x2f = np.concatenate((xf[272:469],xf[1710:1717]))\n",
        "x3f = np.concatenate((xf[469:544],xf[1717:1846]))\n",
        "x4f = xf[544:748]\n",
        "x5f = np.concatenate((xf[748:951],xf[1846:1847]))\n",
        "x6f = np.concatenate((xf[951:1030],xf[1847:1972]))\n",
        "x7f = np.concatenate((xf[1030:1220],xf[1972:1986]))\n",
        "x8f = np.concatenate((xf[1220:1300],xf[1986:2110]))\n",
        "x9f = np.concatenate((xf[1300:1389],xf[2110:2225]))\n",
        "x10f = np.concatenate((xf[1389:1574],xf[2225:2244]))\n",
        "\n",
        "\n",
        "classe05f = np.concatenate((x0f,x10f))\n",
        "classe04f = np.concatenate((x1f,x9f))\n",
        "classe03f = np.concatenate((x2f,x8f))\n",
        "classe02f = np.concatenate((x3f,x7f))\n",
        "classe01f = np.concatenate((x4f,x6f))\n",
        "classenormalf = x5f\n",
        "\n",
        "\n",
        "\n",
        "xSMOTEearlyf = np.concatenate((classe05f,classe04f,classe03f,classe02f,classe01f,classenormalf))"
      ]
    },
    {
      "cell_type": "code",
      "execution_count": null,
      "metadata": {
        "id": "_yg7sfGLh_dg"
      },
      "outputs": [],
      "source": [
        "x0 = np.concatenate((x[:87],x[1574:1691]))\n",
        "x1 = np.concatenate((x[87:272],x[1691:1710]))\n",
        "x2 = np.concatenate((x[272:469],x[1710:1717]))\n",
        "x3 = np.concatenate((x[469:544],x[1717:1846]))\n",
        "x4 = x[544:748]\n",
        "x5 = np.concatenate((x[748:951],x[1846:1847]))\n",
        "x6 = np.concatenate((x[951:1030],x[1847:1972]))\n",
        "x7 = np.concatenate((x[1030:1220],x[1972:1986]))\n",
        "x8 = np.concatenate((x[1220:1300],x[1986:2110]))\n",
        "x9 = np.concatenate((x[1300:1389],x[2110:2225]))\n",
        "x10 = np.concatenate((x[1389:1574],x[2225:2244]))\n",
        "\n",
        "\n",
        "classe05 = np.concatenate((x0,x10))\n",
        "classe04 = np.concatenate((x1,x9))\n",
        "classe03 = np.concatenate((x2,x8))\n",
        "classe02 = np.concatenate((x3,x7))\n",
        "classe01 = np.concatenate((x4,x6))\n",
        "classenormal = x5\n",
        "\n",
        "\n",
        "xSMOTEearly = np.concatenate((classe05,classe04,classe03,classe02,classe01,classenormal))"
      ]
    },
    {
      "cell_type": "code",
      "execution_count": null,
      "metadata": {
        "id": "7IJRqYmnh_dh"
      },
      "outputs": [],
      "source": [
        "finalpsd = np.concatenate((finalpsd[:xSMOTEearly.shape[0]],finalpsd[2040:2244]))"
      ]
    },
    {
      "cell_type": "code",
      "execution_count": null,
      "metadata": {
        "colab": {
          "base_uri": "https://localhost:8080/"
        },
        "id": "Cl4kAMWth_di",
        "outputId": "21d29570-176b-498a-c0e7-61740f5c20b9"
      },
      "outputs": [
        {
          "output_type": "execute_result",
          "data": {
            "text/plain": [
              "(2244, 15)"
            ]
          },
          "metadata": {},
          "execution_count": 196
        }
      ],
      "source": [
        "x.shape"
      ]
    },
    {
      "cell_type": "code",
      "execution_count": null,
      "metadata": {
        "colab": {
          "base_uri": "https://localhost:8080/"
        },
        "id": "Gcj1vjHTh_dj",
        "outputId": "efaf9135-dc34-4a41-c727-0d5f15008d86"
      },
      "outputs": [
        {
          "output_type": "execute_result",
          "data": {
            "text/plain": [
              "(816, 11)"
            ]
          },
          "metadata": {},
          "execution_count": 197
        }
      ],
      "source": [
        "finalpsd.shape"
      ]
    },
    {
      "cell_type": "code",
      "execution_count": null,
      "metadata": {
        "colab": {
          "base_uri": "https://localhost:8080/"
        },
        "id": "B3mocnvXh_dl",
        "outputId": "a7cf554d-c8b6-487d-9217-7d64fd8ed1e1"
      },
      "outputs": [
        {
          "output_type": "execute_result",
          "data": {
            "text/plain": [
              "(612, 15)"
            ]
          },
          "metadata": {},
          "execution_count": 198
        }
      ],
      "source": [
        "xSMOTEearly.shape"
      ]
    },
    {
      "cell_type": "code",
      "execution_count": null,
      "metadata": {
        "id": "1hnrUvgjh_dm"
      },
      "outputs": [],
      "source": [
        "b = np.ones((x.shape[0]), dtype=np.int32)\n",
        "\n",
        "b[:262] = 0\n",
        "b[262:524] = 1\n",
        "b[524:786] = 2\n",
        "b[786:1048] = 3\n",
        "b[1048:1310] = 4\n",
        "b[1310:1574] = 5"
      ]
    },
    {
      "cell_type": "code",
      "execution_count": null,
      "metadata": {
        "id": "KJSXrc0bh_dn"
      },
      "outputs": [],
      "source": [
        "y = np.ones((xSMOTEearly.shape[0]), dtype=np.int32)\n",
        "\n",
        "y[:408] = 0\n",
        "y[408:816] = 1\n",
        "y[816:1224] = 2\n",
        "y[1224:1632] = 3\n",
        "y[1632:2040] = 4\n",
        "y[2040:2244] = 5"
      ]
    },
    {
      "cell_type": "code",
      "execution_count": null,
      "metadata": {
        "colab": {
          "base_uri": "https://localhost:8080/"
        },
        "id": "hYZaviQIh_do",
        "outputId": "68c45d9a-8e79-4b31-e66c-4724843c2eb6"
      },
      "outputs": [
        {
          "output_type": "stream",
          "name": "stderr",
          "text": [
            "/usr/local/lib/python3.10/dist-packages/sklearn/base.py:474: FutureWarning: `BaseEstimator._validate_data` is deprecated in 1.6 and will be removed in 1.7. Use `sklearn.utils.validation.validate_data` instead. This function becomes public and is part of the scikit-learn developer API.\n",
            "  warnings.warn(\n",
            "/usr/local/lib/python3.10/dist-packages/sklearn/utils/_tags.py:354: FutureWarning: The SMOTE or classes from which it inherits use `_get_tags` and `_more_tags`. Please define the `__sklearn_tags__` method, or inherit from `sklearn.base.BaseEstimator` and/or other appropriate mixins such as `sklearn.base.TransformerMixin`, `sklearn.base.ClassifierMixin`, `sklearn.base.RegressorMixin`, and `sklearn.base.OutlierMixin`. From scikit-learn 1.7, not defining `__sklearn_tags__` will raise an error.\n",
            "  warnings.warn(\n"
          ]
        }
      ],
      "source": [
        "xSMOTEearlyf, y = oversample.fit_resample(xSMOTEearlyf, y)"
      ]
    },
    {
      "cell_type": "code",
      "execution_count": null,
      "metadata": {
        "id": "gYAkQATEh_dp"
      },
      "outputs": [],
      "source": [
        "y = np.ones((xSMOTEearly.shape[0]), dtype=np.int32)\n",
        "\n",
        "y[:408] = 0\n",
        "y[408:816] = 1\n",
        "y[816:1224] = 2\n",
        "y[1224:1632] = 3\n",
        "y[1632:2040] = 4\n",
        "y[2040:2244] = 5"
      ]
    },
    {
      "cell_type": "code",
      "execution_count": null,
      "metadata": {
        "colab": {
          "base_uri": "https://localhost:8080/"
        },
        "id": "Tjs9UUdrh_dp",
        "outputId": "9dc772b7-9ae8-4443-8339-730cb620cce0"
      },
      "outputs": [
        {
          "output_type": "stream",
          "name": "stderr",
          "text": [
            "/usr/local/lib/python3.10/dist-packages/sklearn/base.py:474: FutureWarning: `BaseEstimator._validate_data` is deprecated in 1.6 and will be removed in 1.7. Use `sklearn.utils.validation.validate_data` instead. This function becomes public and is part of the scikit-learn developer API.\n",
            "  warnings.warn(\n",
            "/usr/local/lib/python3.10/dist-packages/sklearn/utils/_tags.py:354: FutureWarning: The SMOTE or classes from which it inherits use `_get_tags` and `_more_tags`. Please define the `__sklearn_tags__` method, or inherit from `sklearn.base.BaseEstimator` and/or other appropriate mixins such as `sklearn.base.TransformerMixin`, `sklearn.base.ClassifierMixin`, `sklearn.base.RegressorMixin`, and `sklearn.base.OutlierMixin`. From scikit-learn 1.7, not defining `__sklearn_tags__` will raise an error.\n",
            "  warnings.warn(\n"
          ]
        }
      ],
      "source": [
        "xSMOTEearly, y = oversample.fit_resample(xSMOTEearly, y)"
      ]
    },
    {
      "cell_type": "code",
      "execution_count": null,
      "metadata": {
        "id": "2cGShVRxh_dr"
      },
      "outputs": [],
      "source": [
        "xfinal = np.concatenate((xSMOTEearly,finalpsd,xSMOTEearlyf), axis=1)\n",
        "#xfinal = np.concatenate((xSMOTEearly,finalpsd), axis=1)\n",
        "#xfinal = np.concatenate((xSMOTEearly, xSMOTEearlyf), axis=1)\n",
        "#xfinal = xSMOTEearly\n",
        "#xfinal = x"
      ]
    },
    {
      "cell_type": "code",
      "execution_count": null,
      "metadata": {
        "id": "79h3c1friYBp"
      },
      "outputs": [],
      "source": []
    },
    {
      "cell_type": "code",
      "execution_count": null,
      "metadata": {
        "colab": {
          "base_uri": "https://localhost:8080/",
          "height": 1000
        },
        "id": "kY4RXnQpuYJw",
        "outputId": "15665d00-4abb-4709-d5fa-6f15b08d8c91"
      },
      "outputs": [
        {
          "output_type": "stream",
          "name": "stderr",
          "text": [
            "<ipython-input-205-7428214ae41b>:21: MatplotlibDeprecationWarning: The toggle_label function was deprecated in Matplotlib 3.8 and will be removed two minor releases later. Use ax.tick_params and colorbar.set_label instead.\n",
            "  ax.cax.toggle_label(True)\n"
          ]
        },
        {
          "output_type": "display_data",
          "data": {
            "text/plain": [
              "<Figure size 2600x1300 with 2 Axes>"
            ],
            "image/png": "[encoded data removed]"
          },
          "metadata": {}
        }
      ],
      "source": [
        "gadf = GramianAngularField(image_size=1.0, sample_range=(-1,1), method='d')\n",
        "X_gadf = gadf.fit_transform(xfinal)\n",
        "\n",
        "# Show the images for the first time series\n",
        "fig = plt.figure(figsize=(26, 13))\n",
        "grid = ImageGrid(fig, 111,\n",
        "                 nrows_ncols=(1, 1),\n",
        "                 axes_pad=0.15,\n",
        "                 share_all=True,\n",
        "                 cbar_location=\"right\",\n",
        "                 cbar_mode=\"single\",\n",
        "                 cbar_size=\"7%\",\n",
        "                 cbar_pad=0.3,\n",
        "                 )\n",
        "images = [ X_gadf[300]]\n",
        "titles = ['Gramian Angular Difference Field']\n",
        "for image, title, ax in zip(images, titles, grid):\n",
        "    im = ax.imshow(image)\n",
        "    ax.set_title(title, fontdict={'fontsize': 30})\n",
        "ax.cax.colorbar(im)\n",
        "ax.cax.toggle_label(True)\n",
        "plt.suptitle('Gramian Angular Fields', y=0.98, fontsize=16)\n",
        "plt.show()"
      ]
    },
    {
      "cell_type": "code",
      "execution_count": null,
      "metadata": {
        "id": "DSBfSzrQXZFo"
      },
      "outputs": [],
      "source": [
        "Imagem = X_gadf[: , : , : , np.newaxis]*[1,1,1]"
      ]
    },
    {
      "cell_type": "code",
      "execution_count": null,
      "metadata": {
        "colab": {
          "base_uri": "https://localhost:8080/"
        },
        "id": "dXGzs8Z2nylZ",
        "outputId": "67aeff3e-601b-4b15-e043-237448ef1aaa"
      },
      "outputs": [
        {
          "output_type": "execute_result",
          "data": {
            "text/plain": [
              "(816, 37, 37, 3)"
            ]
          },
          "metadata": {},
          "execution_count": 207
        }
      ],
      "source": [
        "Imagem.shape"
      ]
    },
    {
      "cell_type": "code",
      "execution_count": null,
      "metadata": {
        "id": "9IxMlyAOgAMj"
      },
      "outputs": [],
      "source": [
        "X_train, X_test, y_train, y_test = train_test_split(Imagem, y, test_size=0.2, random_state=6)"
      ]
    },
    {
      "cell_type": "code",
      "execution_count": null,
      "metadata": {
        "colab": {
          "base_uri": "https://localhost:8080/"
        },
        "id": "sEyzYKTuiKCb",
        "outputId": "f46624f6-e2e5-4681-e29f-3a237a45f30d"
      },
      "outputs": [
        {
          "output_type": "stream",
          "name": "stdout",
          "text": [
            "Total number of outputs :  2\n",
            "Output classes :  [0 1]\n"
          ]
        }
      ],
      "source": [
        "classes = np.unique(y_train)\n",
        "nClasses = len(classes)\n",
        "print('Total number of outputs : ', nClasses)\n",
        "print('Output classes : ', classes)"
      ]
    },
    {
      "cell_type": "code",
      "execution_count": null,
      "metadata": {
        "colab": {
          "base_uri": "https://localhost:8080/"
        },
        "id": "8vjnF-xKiKFz",
        "outputId": "e80be3fc-066f-4f06-cd10-94175fc7261b"
      },
      "outputs": [
        {
          "output_type": "execute_result",
          "data": {
            "text/plain": [
              "((652, 37, 37, 3), (164, 37, 37, 3))"
            ]
          },
          "metadata": {},
          "execution_count": 210
        }
      ],
      "source": [
        "train_X = X_train\n",
        "test_X = X_test\n",
        "train_X.shape, test_X.shape"
      ]
    },
    {
      "cell_type": "code",
      "execution_count": null,
      "metadata": {
        "colab": {
          "base_uri": "https://localhost:8080/"
        },
        "id": "L5iBCNcnjl4E",
        "outputId": "6be1b985-432d-4394-86f9-de356bd85522"
      },
      "outputs": [
        {
          "output_type": "stream",
          "name": "stdout",
          "text": [
            "Original label: 1\n",
            "After conversion to one-hot: [0. 1.]\n"
          ]
        }
      ],
      "source": [
        "# Change the labels from categorical to one-hot encoding\n",
        "train_Y_one_hot = to_categorical(y_train)\n",
        "test_Y_one_hot = to_categorical(y_test)\n",
        "\n",
        "# Display the change for category label using one-hot encoding\n",
        "print('Original label:', y_train[7])\n",
        "print('After conversion to one-hot:', train_Y_one_hot[7])\n",
        "\n",
        "\n",
        "\n"
      ]
    },
    {
      "cell_type": "code",
      "execution_count": null,
      "metadata": {
        "id": "DV4L1X45nNLu"
      },
      "outputs": [],
      "source": [
        "from sklearn.model_selection import train_test_split\n",
        "train_X,valid_X,train_label,valid_label = train_test_split(train_X, train_Y_one_hot, test_size=0.15, random_state=13)\n",
        "\n"
      ]
    },
    {
      "cell_type": "code",
      "execution_count": null,
      "metadata": {
        "id": "jOYSXTjmpLCW"
      },
      "outputs": [],
      "source": [
        "import keras\n",
        "from keras.models import Sequential, Model\n",
        "from keras import Input\n",
        "from keras.layers import Dense, Dropout, Flatten\n",
        "from keras.layers import Conv2D, MaxPooling2D, AveragePooling2D, GlobalAveragePooling2D\n",
        "from keras.layers import BatchNormalization\n",
        "from keras.layers import LeakyReLU\n",
        "from keras.layers import ReLU"
      ]
    },
    {
      "cell_type": "code",
      "execution_count": null,
      "metadata": {
        "id": "quSs0Fw9pWB3"
      },
      "outputs": [],
      "source": [
        "batch_size = 20\n",
        "epochs = 65\n",
        "num_classes = nClasses"
      ]
    },
    {
      "cell_type": "code",
      "execution_count": null,
      "metadata": {
        "colab": {
          "base_uri": "https://localhost:8080/"
        },
        "id": "T3uptrWnrBKv",
        "outputId": "b82e6f3d-8b1b-41aa-ec49-0b8b4171809d"
      },
      "outputs": [
        {
          "output_type": "stream",
          "name": "stderr",
          "text": [
            "/usr/local/lib/python3.10/dist-packages/keras/src/layers/convolutional/base_conv.py:107: UserWarning: Do not pass an `input_shape`/`input_dim` argument to a layer. When using Sequential models, prefer using an `Input(shape)` object as the first layer in the model instead.\n",
            "  super().__init__(activity_regularizer=activity_regularizer, **kwargs)\n",
            "/usr/local/lib/python3.10/dist-packages/keras/src/layers/activations/leaky_relu.py:41: UserWarning: Argument `alpha` is deprecated. Use `negative_slope` instead.\n",
            "  warnings.warn(\n"
          ]
        }
      ],
      "source": [
        "fashion_model = Sequential()\n",
        "fashion_model.add(Conv2D(256, kernel_size=(4, 4),strides=(1,1), activation='linear',padding='same',input_shape=(37,37,3)))\n",
        "fashion_model.add(LeakyReLU(alpha=0.2))\n",
        "fashion_model.add(MaxPooling2D((2, 2),padding='same'))\n",
        "fashion_model.add(Dropout(0.5))\n",
        "fashion_model.add(Conv2D(128, kernel_size=(3, 3),strides=(1,1), activation='linear',padding='same'))\n",
        "fashion_model.add(LeakyReLU(alpha=0.2))\n",
        "fashion_model.add(MaxPooling2D(pool_size=(3, 3),padding='same'))\n",
        "fashion_model.add(Dropout(0.5))\n",
        "fashion_model.add(Conv2D(128, kernel_size=(2,2),strides=(1,1), activation='linear',padding='same'))\n",
        "fashion_model.add(LeakyReLU(alpha=0.2))\n",
        "fashion_model.add(MaxPooling2D(pool_size=(3, 3),padding='same'))\n",
        "fashion_model.add(Dropout(0.3))\n",
        "fashion_model.add(Flatten())\n",
        "fashion_model.add(Dense(128, activation='linear'))\n",
        "fashion_model.add(LeakyReLU(alpha=0.2))\n",
        "fashion_model.add(Dropout(0.3))\n",
        "fashion_model.add(Dense(num_classes, activation='softmax'))"
      ]
    },
    {
      "cell_type": "code",
      "execution_count": null,
      "metadata": {
        "id": "pBe0_F_jrMHr"
      },
      "outputs": [],
      "source": [
        "fashion_model.compile(loss=keras.losses.categorical_crossentropy, optimizer='Adam' ,metrics=['accuracy'])"
      ]
    },
    {
      "cell_type": "code",
      "execution_count": null,
      "metadata": {
        "id": "M7kXt0ZshlqI"
      },
      "outputs": [],
      "source": [
        "checkpoint_filepath = '/tmp/checkpoint.keras'\n",
        "model_checkpoint_callback = tf.keras.callbacks.ModelCheckpoint(\n",
        "    filepath=checkpoint_filepath,\n",
        "    save_weights_only=False,\n",
        "    monitor='loss',\n",
        "    mode='min',\n",
        "    save_best_only=True)"
      ]
    },
    {
      "cell_type": "code",
      "execution_count": null,
      "metadata": {
        "id": "lyGEhe7ThmmQ"
      },
      "outputs": [],
      "source": [
        "callbacks = [\n",
        "             EarlyStopping(patience=200),\n",
        "]"
      ]
    },
    {
      "cell_type": "code",
      "execution_count": null,
      "metadata": {
        "colab": {
          "base_uri": "https://localhost:8080/",
          "height": 1000
        },
        "id": "fAjJOTtoIvlr",
        "outputId": "6d9035a7-8d39-4626-f28e-d7fcd8a497be"
      },
      "outputs": [
        {
          "output_type": "stream",
          "name": "stdout",
          "text": [
            "Epoch 1/65\n",
            "\u001b[1m28/28\u001b[0m \u001b[32m━━━━━━━━━━━━━━━━━━━━\u001b[0m\u001b[37m\u001b[0m \u001b[1m33s\u001b[0m 952ms/step - accuracy: 0.4449 - loss: 0.8555 - val_accuracy: 0.4592 - val_loss: 0.7000\n",
            "Epoch 2/65\n",
            "\u001b[1m28/28\u001b[0m \u001b[32m━━━━━━━━━━━━━━━━━━━━\u001b[0m\u001b[37m\u001b[0m \u001b[1m29s\u001b[0m 534ms/step - accuracy: 0.5408 - loss: 0.6999 - val_accuracy: 0.5408 - val_loss: 0.6819\n",
            "Epoch 3/65\n",
            "\u001b[1m28/28\u001b[0m \u001b[32m━━━━━━━━━━━━━━━━━━━━\u001b[0m\u001b[37m\u001b[0m \u001b[1m19s\u001b[0m 477ms/step - accuracy: 0.5502 - loss: 0.7066 - val_accuracy: 0.4796 - val_loss: 0.6867\n",
            "Epoch 4/65\n",
            "\u001b[1m28/28\u001b[0m \u001b[32m━━━━━━━━━━━━━━━━━━━━\u001b[0m\u001b[37m\u001b[0m \u001b[1m22s\u001b[0m 516ms/step - accuracy: 0.5241 - loss: 0.6963 - val_accuracy: 0.5408 - val_loss: 0.6691\n",
            "Epoch 5/65\n",
            "\u001b[1m28/28\u001b[0m \u001b[32m━━━━━━━━━━━━━━━━━━━━\u001b[0m\u001b[37m\u001b[0m \u001b[1m21s\u001b[0m 770ms/step - accuracy: 0.5464 - loss: 0.6948 - val_accuracy: 0.5306 - val_loss: 0.6830\n",
            "Epoch 6/65\n",
            "\u001b[1m28/28\u001b[0m \u001b[32m━━━━━━━━━━━━━━━━━━━━\u001b[0m\u001b[37m\u001b[0m \u001b[1m34s\u001b[0m 503ms/step - accuracy: 0.5930 - loss: 0.6672 - val_accuracy: 0.5408 - val_loss: 0.6458\n",
            "Epoch 7/65\n",
            "\u001b[1m28/28\u001b[0m \u001b[32m━━━━━━━━━━━━━━━━━━━━\u001b[0m\u001b[37m\u001b[0m \u001b[1m13s\u001b[0m 469ms/step - accuracy: 0.5708 - loss: 0.6778 - val_accuracy: 0.6633 - val_loss: 0.6384\n",
            "Epoch 8/65\n",
            "\u001b[1m28/28\u001b[0m \u001b[32m━━━━━━━━━━━━━━━━━━━━\u001b[0m\u001b[37m\u001b[0m \u001b[1m22s\u001b[0m 520ms/step - accuracy: 0.6079 - loss: 0.6401 - val_accuracy: 0.7347 - val_loss: 0.5239\n",
            "Epoch 9/65\n",
            "\u001b[1m28/28\u001b[0m \u001b[32m━━━━━━━━━━━━━━━━━━━━\u001b[0m\u001b[37m\u001b[0m \u001b[1m20s\u001b[0m 494ms/step - accuracy: 0.7219 - loss: 0.5272 - val_accuracy: 0.5918 - val_loss: 0.6422\n",
            "Epoch 10/65\n",
            "\u001b[1m28/28\u001b[0m \u001b[32m━━━━━━━━━━━━━━━━━━━━\u001b[0m\u001b[37m\u001b[0m \u001b[1m15s\u001b[0m 541ms/step - accuracy: 0.7220 - loss: 0.5321 - val_accuracy: 0.7857 - val_loss: 0.4958\n",
            "Epoch 11/65\n",
            "\u001b[1m28/28\u001b[0m \u001b[32m━━━━━━━━━━━━━━━━━━━━\u001b[0m\u001b[37m\u001b[0m \u001b[1m18s\u001b[0m 448ms/step - accuracy: 0.7000 - loss: 0.5549 - val_accuracy: 0.7857 - val_loss: 0.4728\n",
            "Epoch 12/65\n",
            "\u001b[1m28/28\u001b[0m \u001b[32m━━━━━━━━━━━━━━━━━━━━\u001b[0m\u001b[37m\u001b[0m \u001b[1m22s\u001b[0m 521ms/step - accuracy: 0.7279 - loss: 0.5035 - val_accuracy: 0.7245 - val_loss: 0.4935\n",
            "Epoch 13/65\n",
            "\u001b[1m28/28\u001b[0m \u001b[32m━━━━━━━━━━━━━━━━━━━━\u001b[0m\u001b[37m\u001b[0m \u001b[1m20s\u001b[0m 516ms/step - accuracy: 0.7523 - loss: 0.4826 - val_accuracy: 0.7041 - val_loss: 0.4880\n",
            "Epoch 14/65\n",
            "\u001b[1m28/28\u001b[0m \u001b[32m━━━━━━━━━━━━━━━━━━━━\u001b[0m\u001b[37m\u001b[0m \u001b[1m14s\u001b[0m 500ms/step - accuracy: 0.7631 - loss: 0.4858 - val_accuracy: 0.7143 - val_loss: 0.4893\n",
            "Epoch 15/65\n",
            "\u001b[1m28/28\u001b[0m \u001b[32m━━━━━━━━━━━━━━━━━━━━\u001b[0m\u001b[37m\u001b[0m \u001b[1m19s\u001b[0m 438ms/step - accuracy: 0.7313 - loss: 0.4929 - val_accuracy: 0.7857 - val_loss: 0.4424\n",
            "Epoch 16/65\n",
            "\u001b[1m28/28\u001b[0m \u001b[32m━━━━━━━━━━━━━━━━━━━━\u001b[0m\u001b[37m\u001b[0m \u001b[1m22s\u001b[0m 500ms/step - accuracy: 0.7701 - loss: 0.4577 - val_accuracy: 0.7041 - val_loss: 0.5050\n",
            "Epoch 17/65\n",
            "\u001b[1m28/28\u001b[0m \u001b[32m━━━━━━━━━━━━━━━━━━━━\u001b[0m\u001b[37m\u001b[0m \u001b[1m21s\u001b[0m 515ms/step - accuracy: 0.7590 - loss: 0.4680 - val_accuracy: 0.7551 - val_loss: 0.4510\n",
            "Epoch 18/65\n",
            "\u001b[1m28/28\u001b[0m \u001b[32m━━━━━━━━━━━━━━━━━━━━\u001b[0m\u001b[37m\u001b[0m \u001b[1m19s\u001b[0m 456ms/step - accuracy: 0.8053 - loss: 0.4414 - val_accuracy: 0.7755 - val_loss: 0.4324\n",
            "Epoch 19/65\n",
            "\u001b[1m28/28\u001b[0m \u001b[32m━━━━━━━━━━━━━━━━━━━━\u001b[0m\u001b[37m\u001b[0m \u001b[1m13s\u001b[0m 456ms/step - accuracy: 0.7694 - loss: 0.4606 - val_accuracy: 0.7551 - val_loss: 0.4344\n",
            "Epoch 20/65\n",
            "\u001b[1m28/28\u001b[0m \u001b[32m━━━━━━━━━━━━━━━━━━━━\u001b[0m\u001b[37m\u001b[0m \u001b[1m14s\u001b[0m 498ms/step - accuracy: 0.7701 - loss: 0.4472 - val_accuracy: 0.7551 - val_loss: 0.4733\n",
            "Epoch 21/65\n",
            "\u001b[1m28/28\u001b[0m \u001b[32m━━━━━━━━━━━━━━━━━━━━\u001b[0m\u001b[37m\u001b[0m \u001b[1m20s\u001b[0m 494ms/step - accuracy: 0.7892 - loss: 0.4354 - val_accuracy: 0.7551 - val_loss: 0.4549\n",
            "Epoch 22/65\n",
            "\u001b[1m28/28\u001b[0m \u001b[32m━━━━━━━━━━━━━━━━━━━━\u001b[0m\u001b[37m\u001b[0m \u001b[1m13s\u001b[0m 460ms/step - accuracy: 0.7781 - loss: 0.4458 - val_accuracy: 0.7755 - val_loss: 0.4485\n",
            "Epoch 23/65\n",
            "\u001b[1m28/28\u001b[0m \u001b[32m━━━━━━━━━━━━━━━━━━━━\u001b[0m\u001b[37m\u001b[0m \u001b[1m22s\u001b[0m 518ms/step - accuracy: 0.7893 - loss: 0.4438 - val_accuracy: 0.7041 - val_loss: 0.4746\n",
            "Epoch 24/65\n",
            "\u001b[1m28/28\u001b[0m \u001b[32m━━━━━━━━━━━━━━━━━━━━\u001b[0m\u001b[37m\u001b[0m \u001b[1m14s\u001b[0m 520ms/step - accuracy: 0.8078 - loss: 0.3914 - val_accuracy: 0.7347 - val_loss: 0.4552\n",
            "Epoch 25/65\n",
            "\u001b[1m28/28\u001b[0m \u001b[32m━━━━━━━━━━━━━━━━━━━━\u001b[0m\u001b[37m\u001b[0m \u001b[1m29s\u001b[0m 823ms/step - accuracy: 0.7608 - loss: 0.4418 - val_accuracy: 0.8265 - val_loss: 0.4350\n",
            "Epoch 26/65\n",
            "\u001b[1m 2/28\u001b[0m \u001b[32m━\u001b[0m\u001b[37m━━━━━━━━━━━━━━━━━━━\u001b[0m \u001b[1m11s\u001b[0m 430ms/step - accuracy: 0.9000 - loss: 0.3184"
          ]
        },
        {
          "output_type": "error",
          "ename": "KeyboardInterrupt",
          "evalue": "",
          "traceback": [
            "\u001b[0;31m---------------------------------------------------------------------------\u001b[0m",
            "\u001b[0;31mKeyboardInterrupt\u001b[0m                         Traceback (most recent call last)",
            "\u001b[0;32m<ipython-input-219-b1d5ffe879b3>\u001b[0m in \u001b[0;36m<cell line: 1>\u001b[0;34m()\u001b[0m\n\u001b[0;32m----> 1\u001b[0;31m \u001b[0mfashion_train\u001b[0m \u001b[0;34m=\u001b[0m \u001b[0mfashion_model\u001b[0m\u001b[0;34m.\u001b[0m\u001b[0mfit\u001b[0m\u001b[0;34m(\u001b[0m\u001b[0mtrain_X\u001b[0m\u001b[0;34m,\u001b[0m \u001b[0mtrain_label\u001b[0m\u001b[0;34m,\u001b[0m\u001b[0mcallbacks\u001b[0m\u001b[0;34m=\u001b[0m\u001b[0mcallbacks\u001b[0m\u001b[0;34m,\u001b[0m \u001b[0mbatch_size\u001b[0m\u001b[0;34m=\u001b[0m\u001b[0mbatch_size\u001b[0m\u001b[0;34m,\u001b[0m \u001b[0mepochs\u001b[0m\u001b[0;34m=\u001b[0m\u001b[0mepochs\u001b[0m\u001b[0;34m,\u001b[0m\u001b[0mverbose\u001b[0m\u001b[0;34m=\u001b[0m\u001b[0;36m1\u001b[0m\u001b[0;34m,\u001b[0m \u001b[0mvalidation_data\u001b[0m\u001b[0;34m=\u001b[0m\u001b[0;34m(\u001b[0m\u001b[0mvalid_X\u001b[0m\u001b[0;34m,\u001b[0m\u001b[0mvalid_label\u001b[0m\u001b[0;34m)\u001b[0m\u001b[0;34m)\u001b[0m\u001b[0;34m\u001b[0m\u001b[0;34m\u001b[0m\u001b[0m\n\u001b[0m",
            "\u001b[0;32m/usr/local/lib/python3.10/dist-packages/keras/src/utils/traceback_utils.py\u001b[0m in \u001b[0;36merror_handler\u001b[0;34m(*args, **kwargs)\u001b[0m\n\u001b[1;32m    115\u001b[0m         \u001b[0mfiltered_tb\u001b[0m \u001b[0;34m=\u001b[0m \u001b[0;32mNone\u001b[0m\u001b[0;34m\u001b[0m\u001b[0;34m\u001b[0m\u001b[0m\n\u001b[1;32m    116\u001b[0m         \u001b[0;32mtry\u001b[0m\u001b[0;34m:\u001b[0m\u001b[0;34m\u001b[0m\u001b[0;34m\u001b[0m\u001b[0m\n\u001b[0;32m--> 117\u001b[0;31m             \u001b[0;32mreturn\u001b[0m \u001b[0mfn\u001b[0m\u001b[0;34m(\u001b[0m\u001b[0;34m*\u001b[0m\u001b[0margs\u001b[0m\u001b[0;34m,\u001b[0m \u001b[0;34m**\u001b[0m\u001b[0mkwargs\u001b[0m\u001b[0;34m)\u001b[0m\u001b[0;34m\u001b[0m\u001b[0;34m\u001b[0m\u001b[0m\n\u001b[0m\u001b[1;32m    118\u001b[0m         \u001b[0;32mexcept\u001b[0m \u001b[0mException\u001b[0m \u001b[0;32mas\u001b[0m \u001b[0me\u001b[0m\u001b[0;34m:\u001b[0m\u001b[0;34m\u001b[0m\u001b[0;34m\u001b[0m\u001b[0m\n\u001b[1;32m    119\u001b[0m             \u001b[0mfiltered_tb\u001b[0m \u001b[0;34m=\u001b[0m \u001b[0m_process_traceback_frames\u001b[0m\u001b[0;34m(\u001b[0m\u001b[0me\u001b[0m\u001b[0;34m.\u001b[0m\u001b[0m__traceback__\u001b[0m\u001b[0;34m)\u001b[0m\u001b[0;34m\u001b[0m\u001b[0;34m\u001b[0m\u001b[0m\n",
            "\u001b[0;32m/usr/local/lib/python3.10/dist-packages/keras/src/backend/tensorflow/trainer.py\u001b[0m in \u001b[0;36mfit\u001b[0;34m(self, x, y, batch_size, epochs, verbose, callbacks, validation_split, validation_data, shuffle, class_weight, sample_weight, initial_epoch, steps_per_epoch, validation_steps, validation_batch_size, validation_freq)\u001b[0m\n\u001b[1;32m    318\u001b[0m                 \u001b[0;32mfor\u001b[0m \u001b[0mstep\u001b[0m\u001b[0;34m,\u001b[0m \u001b[0miterator\u001b[0m \u001b[0;32min\u001b[0m \u001b[0mepoch_iterator\u001b[0m\u001b[0;34m.\u001b[0m\u001b[0menumerate_epoch\u001b[0m\u001b[0;34m(\u001b[0m\u001b[0;34m)\u001b[0m\u001b[0;34m:\u001b[0m\u001b[0;34m\u001b[0m\u001b[0;34m\u001b[0m\u001b[0m\n\u001b[1;32m    319\u001b[0m                     \u001b[0mcallbacks\u001b[0m\u001b[0;34m.\u001b[0m\u001b[0mon_train_batch_begin\u001b[0m\u001b[0;34m(\u001b[0m\u001b[0mstep\u001b[0m\u001b[0;34m)\u001b[0m\u001b[0;34m\u001b[0m\u001b[0;34m\u001b[0m\u001b[0m\n\u001b[0;32m--> 320\u001b[0;31m                     \u001b[0mlogs\u001b[0m \u001b[0;34m=\u001b[0m \u001b[0mself\u001b[0m\u001b[0;34m.\u001b[0m\u001b[0mtrain_function\u001b[0m\u001b[0;34m(\u001b[0m\u001b[0miterator\u001b[0m\u001b[0;34m)\u001b[0m\u001b[0;34m\u001b[0m\u001b[0;34m\u001b[0m\u001b[0m\n\u001b[0m\u001b[1;32m    321\u001b[0m                     \u001b[0mlogs\u001b[0m \u001b[0;34m=\u001b[0m \u001b[0mself\u001b[0m\u001b[0;34m.\u001b[0m\u001b[0m_pythonify_logs\u001b[0m\u001b[0;34m(\u001b[0m\u001b[0mlogs\u001b[0m\u001b[0;34m)\u001b[0m\u001b[0;34m\u001b[0m\u001b[0;34m\u001b[0m\u001b[0m\n\u001b[1;32m    322\u001b[0m                     \u001b[0mcallbacks\u001b[0m\u001b[0;34m.\u001b[0m\u001b[0mon_train_batch_end\u001b[0m\u001b[0;34m(\u001b[0m\u001b[0mstep\u001b[0m\u001b[0;34m,\u001b[0m \u001b[0mlogs\u001b[0m\u001b[0;34m)\u001b[0m\u001b[0;34m\u001b[0m\u001b[0;34m\u001b[0m\u001b[0m\n",
            "\u001b[0;32m/usr/local/lib/python3.10/dist-packages/tensorflow/python/util/traceback_utils.py\u001b[0m in \u001b[0;36merror_handler\u001b[0;34m(*args, **kwargs)\u001b[0m\n\u001b[1;32m    148\u001b[0m     \u001b[0mfiltered_tb\u001b[0m \u001b[0;34m=\u001b[0m \u001b[0;32mNone\u001b[0m\u001b[0;34m\u001b[0m\u001b[0;34m\u001b[0m\u001b[0m\n\u001b[1;32m    149\u001b[0m     \u001b[0;32mtry\u001b[0m\u001b[0;34m:\u001b[0m\u001b[0;34m\u001b[0m\u001b[0;34m\u001b[0m\u001b[0m\n\u001b[0;32m--> 150\u001b[0;31m       \u001b[0;32mreturn\u001b[0m \u001b[0mfn\u001b[0m\u001b[0;34m(\u001b[0m\u001b[0;34m*\u001b[0m\u001b[0margs\u001b[0m\u001b[0;34m,\u001b[0m \u001b[0;34m**\u001b[0m\u001b[0mkwargs\u001b[0m\u001b[0;34m)\u001b[0m\u001b[0;34m\u001b[0m\u001b[0;34m\u001b[0m\u001b[0m\n\u001b[0m\u001b[1;32m    151\u001b[0m     \u001b[0;32mexcept\u001b[0m \u001b[0mException\u001b[0m \u001b[0;32mas\u001b[0m \u001b[0me\u001b[0m\u001b[0;34m:\u001b[0m\u001b[0;34m\u001b[0m\u001b[0;34m\u001b[0m\u001b[0m\n\u001b[1;32m    152\u001b[0m       \u001b[0mfiltered_tb\u001b[0m \u001b[0;34m=\u001b[0m \u001b[0m_process_traceback_frames\u001b[0m\u001b[0;34m(\u001b[0m\u001b[0me\u001b[0m\u001b[0;34m.\u001b[0m\u001b[0m__traceback__\u001b[0m\u001b[0;34m)\u001b[0m\u001b[0;34m\u001b[0m\u001b[0;34m\u001b[0m\u001b[0m\n",
            "\u001b[0;32m/usr/local/lib/python3.10/dist-packages/tensorflow/python/eager/polymorphic_function/polymorphic_function.py\u001b[0m in \u001b[0;36m__call__\u001b[0;34m(self, *args, **kwds)\u001b[0m\n\u001b[1;32m    831\u001b[0m \u001b[0;34m\u001b[0m\u001b[0m\n\u001b[1;32m    832\u001b[0m       \u001b[0;32mwith\u001b[0m \u001b[0mOptionalXlaContext\u001b[0m\u001b[0;34m(\u001b[0m\u001b[0mself\u001b[0m\u001b[0;34m.\u001b[0m\u001b[0m_jit_compile\u001b[0m\u001b[0;34m)\u001b[0m\u001b[0;34m:\u001b[0m\u001b[0;34m\u001b[0m\u001b[0;34m\u001b[0m\u001b[0m\n\u001b[0;32m--> 833\u001b[0;31m         \u001b[0mresult\u001b[0m \u001b[0;34m=\u001b[0m \u001b[0mself\u001b[0m\u001b[0;34m.\u001b[0m\u001b[0m_call\u001b[0m\u001b[0;34m(\u001b[0m\u001b[0;34m*\u001b[0m\u001b[0margs\u001b[0m\u001b[0;34m,\u001b[0m \u001b[0;34m**\u001b[0m\u001b[0mkwds\u001b[0m\u001b[0;34m)\u001b[0m\u001b[0;34m\u001b[0m\u001b[0;34m\u001b[0m\u001b[0m\n\u001b[0m\u001b[1;32m    834\u001b[0m \u001b[0;34m\u001b[0m\u001b[0m\n\u001b[1;32m    835\u001b[0m       \u001b[0mnew_tracing_count\u001b[0m \u001b[0;34m=\u001b[0m \u001b[0mself\u001b[0m\u001b[0;34m.\u001b[0m\u001b[0mexperimental_get_tracing_count\u001b[0m\u001b[0;34m(\u001b[0m\u001b[0;34m)\u001b[0m\u001b[0;34m\u001b[0m\u001b[0;34m\u001b[0m\u001b[0m\n",
            "\u001b[0;32m/usr/local/lib/python3.10/dist-packages/tensorflow/python/eager/polymorphic_function/polymorphic_function.py\u001b[0m in \u001b[0;36m_call\u001b[0;34m(self, *args, **kwds)\u001b[0m\n\u001b[1;32m    876\u001b[0m       \u001b[0;31m# In this case we have not created variables on the first call. So we can\u001b[0m\u001b[0;34m\u001b[0m\u001b[0;34m\u001b[0m\u001b[0m\n\u001b[1;32m    877\u001b[0m       \u001b[0;31m# run the first trace but we should fail if variables are created.\u001b[0m\u001b[0;34m\u001b[0m\u001b[0;34m\u001b[0m\u001b[0m\n\u001b[0;32m--> 878\u001b[0;31m       results = tracing_compilation.call_function(\n\u001b[0m\u001b[1;32m    879\u001b[0m           \u001b[0margs\u001b[0m\u001b[0;34m,\u001b[0m \u001b[0mkwds\u001b[0m\u001b[0;34m,\u001b[0m \u001b[0mself\u001b[0m\u001b[0;34m.\u001b[0m\u001b[0m_variable_creation_config\u001b[0m\u001b[0;34m\u001b[0m\u001b[0;34m\u001b[0m\u001b[0m\n\u001b[1;32m    880\u001b[0m       )\n",
            "\u001b[0;32m/usr/local/lib/python3.10/dist-packages/tensorflow/python/eager/polymorphic_function/tracing_compilation.py\u001b[0m in \u001b[0;36mcall_function\u001b[0;34m(args, kwargs, tracing_options)\u001b[0m\n\u001b[1;32m    137\u001b[0m   \u001b[0mbound_args\u001b[0m \u001b[0;34m=\u001b[0m \u001b[0mfunction\u001b[0m\u001b[0;34m.\u001b[0m\u001b[0mfunction_type\u001b[0m\u001b[0;34m.\u001b[0m\u001b[0mbind\u001b[0m\u001b[0;34m(\u001b[0m\u001b[0;34m*\u001b[0m\u001b[0margs\u001b[0m\u001b[0;34m,\u001b[0m \u001b[0;34m**\u001b[0m\u001b[0mkwargs\u001b[0m\u001b[0;34m)\u001b[0m\u001b[0;34m\u001b[0m\u001b[0;34m\u001b[0m\u001b[0m\n\u001b[1;32m    138\u001b[0m   \u001b[0mflat_inputs\u001b[0m \u001b[0;34m=\u001b[0m \u001b[0mfunction\u001b[0m\u001b[0;34m.\u001b[0m\u001b[0mfunction_type\u001b[0m\u001b[0;34m.\u001b[0m\u001b[0munpack_inputs\u001b[0m\u001b[0;34m(\u001b[0m\u001b[0mbound_args\u001b[0m\u001b[0;34m)\u001b[0m\u001b[0;34m\u001b[0m\u001b[0;34m\u001b[0m\u001b[0m\n\u001b[0;32m--> 139\u001b[0;31m   return function._call_flat(  # pylint: disable=protected-access\n\u001b[0m\u001b[1;32m    140\u001b[0m       \u001b[0mflat_inputs\u001b[0m\u001b[0;34m,\u001b[0m \u001b[0mcaptured_inputs\u001b[0m\u001b[0;34m=\u001b[0m\u001b[0mfunction\u001b[0m\u001b[0;34m.\u001b[0m\u001b[0mcaptured_inputs\u001b[0m\u001b[0;34m\u001b[0m\u001b[0;34m\u001b[0m\u001b[0m\n\u001b[1;32m    141\u001b[0m   )\n",
            "\u001b[0;32m/usr/local/lib/python3.10/dist-packages/tensorflow/python/eager/polymorphic_function/concrete_function.py\u001b[0m in \u001b[0;36m_call_flat\u001b[0;34m(self, tensor_inputs, captured_inputs)\u001b[0m\n\u001b[1;32m   1320\u001b[0m         and executing_eagerly):\n\u001b[1;32m   1321\u001b[0m       \u001b[0;31m# No tape is watching; skip to running the function.\u001b[0m\u001b[0;34m\u001b[0m\u001b[0;34m\u001b[0m\u001b[0m\n\u001b[0;32m-> 1322\u001b[0;31m       \u001b[0;32mreturn\u001b[0m \u001b[0mself\u001b[0m\u001b[0;34m.\u001b[0m\u001b[0m_inference_function\u001b[0m\u001b[0;34m.\u001b[0m\u001b[0mcall_preflattened\u001b[0m\u001b[0;34m(\u001b[0m\u001b[0margs\u001b[0m\u001b[0;34m)\u001b[0m\u001b[0;34m\u001b[0m\u001b[0;34m\u001b[0m\u001b[0m\n\u001b[0m\u001b[1;32m   1323\u001b[0m     forward_backward = self._select_forward_and_backward_functions(\n\u001b[1;32m   1324\u001b[0m         \u001b[0margs\u001b[0m\u001b[0;34m,\u001b[0m\u001b[0;34m\u001b[0m\u001b[0;34m\u001b[0m\u001b[0m\n",
            "\u001b[0;32m/usr/local/lib/python3.10/dist-packages/tensorflow/python/eager/polymorphic_function/atomic_function.py\u001b[0m in \u001b[0;36mcall_preflattened\u001b[0;34m(self, args)\u001b[0m\n\u001b[1;32m    214\u001b[0m   \u001b[0;32mdef\u001b[0m \u001b[0mcall_preflattened\u001b[0m\u001b[0;34m(\u001b[0m\u001b[0mself\u001b[0m\u001b[0;34m,\u001b[0m \u001b[0margs\u001b[0m\u001b[0;34m:\u001b[0m \u001b[0mSequence\u001b[0m\u001b[0;34m[\u001b[0m\u001b[0mcore\u001b[0m\u001b[0;34m.\u001b[0m\u001b[0mTensor\u001b[0m\u001b[0;34m]\u001b[0m\u001b[0;34m)\u001b[0m \u001b[0;34m->\u001b[0m \u001b[0mAny\u001b[0m\u001b[0;34m:\u001b[0m\u001b[0;34m\u001b[0m\u001b[0;34m\u001b[0m\u001b[0m\n\u001b[1;32m    215\u001b[0m     \u001b[0;34m\"\"\"Calls with flattened tensor inputs and returns the structured output.\"\"\"\u001b[0m\u001b[0;34m\u001b[0m\u001b[0;34m\u001b[0m\u001b[0m\n\u001b[0;32m--> 216\u001b[0;31m     \u001b[0mflat_outputs\u001b[0m \u001b[0;34m=\u001b[0m \u001b[0mself\u001b[0m\u001b[0;34m.\u001b[0m\u001b[0mcall_flat\u001b[0m\u001b[0;34m(\u001b[0m\u001b[0;34m*\u001b[0m\u001b[0margs\u001b[0m\u001b[0;34m)\u001b[0m\u001b[0;34m\u001b[0m\u001b[0;34m\u001b[0m\u001b[0m\n\u001b[0m\u001b[1;32m    217\u001b[0m     \u001b[0;32mreturn\u001b[0m \u001b[0mself\u001b[0m\u001b[0;34m.\u001b[0m\u001b[0mfunction_type\u001b[0m\u001b[0;34m.\u001b[0m\u001b[0mpack_output\u001b[0m\u001b[0;34m(\u001b[0m\u001b[0mflat_outputs\u001b[0m\u001b[0;34m)\u001b[0m\u001b[0;34m\u001b[0m\u001b[0;34m\u001b[0m\u001b[0m\n\u001b[1;32m    218\u001b[0m \u001b[0;34m\u001b[0m\u001b[0m\n",
            "\u001b[0;32m/usr/local/lib/python3.10/dist-packages/tensorflow/python/eager/polymorphic_function/atomic_function.py\u001b[0m in \u001b[0;36mcall_flat\u001b[0;34m(self, *args)\u001b[0m\n\u001b[1;32m    249\u001b[0m         \u001b[0;32mwith\u001b[0m \u001b[0mrecord\u001b[0m\u001b[0;34m.\u001b[0m\u001b[0mstop_recording\u001b[0m\u001b[0;34m(\u001b[0m\u001b[0;34m)\u001b[0m\u001b[0;34m:\u001b[0m\u001b[0;34m\u001b[0m\u001b[0;34m\u001b[0m\u001b[0m\n\u001b[1;32m    250\u001b[0m           \u001b[0;32mif\u001b[0m \u001b[0mself\u001b[0m\u001b[0;34m.\u001b[0m\u001b[0m_bound_context\u001b[0m\u001b[0;34m.\u001b[0m\u001b[0mexecuting_eagerly\u001b[0m\u001b[0;34m(\u001b[0m\u001b[0;34m)\u001b[0m\u001b[0;34m:\u001b[0m\u001b[0;34m\u001b[0m\u001b[0;34m\u001b[0m\u001b[0m\n\u001b[0;32m--> 251\u001b[0;31m             outputs = self._bound_context.call_function(\n\u001b[0m\u001b[1;32m    252\u001b[0m                 \u001b[0mself\u001b[0m\u001b[0;34m.\u001b[0m\u001b[0mname\u001b[0m\u001b[0;34m,\u001b[0m\u001b[0;34m\u001b[0m\u001b[0;34m\u001b[0m\u001b[0m\n\u001b[1;32m    253\u001b[0m                 \u001b[0mlist\u001b[0m\u001b[0;34m(\u001b[0m\u001b[0margs\u001b[0m\u001b[0;34m)\u001b[0m\u001b[0;34m,\u001b[0m\u001b[0;34m\u001b[0m\u001b[0;34m\u001b[0m\u001b[0m\n",
            "\u001b[0;32m/usr/local/lib/python3.10/dist-packages/tensorflow/python/eager/context.py\u001b[0m in \u001b[0;36mcall_function\u001b[0;34m(self, name, tensor_inputs, num_outputs)\u001b[0m\n\u001b[1;32m   1550\u001b[0m     \u001b[0mcancellation_context\u001b[0m \u001b[0;34m=\u001b[0m \u001b[0mcancellation\u001b[0m\u001b[0;34m.\u001b[0m\u001b[0mcontext\u001b[0m\u001b[0;34m(\u001b[0m\u001b[0;34m)\u001b[0m\u001b[0;34m\u001b[0m\u001b[0;34m\u001b[0m\u001b[0m\n\u001b[1;32m   1551\u001b[0m     \u001b[0;32mif\u001b[0m \u001b[0mcancellation_context\u001b[0m \u001b[0;32mis\u001b[0m \u001b[0;32mNone\u001b[0m\u001b[0;34m:\u001b[0m\u001b[0;34m\u001b[0m\u001b[0;34m\u001b[0m\u001b[0m\n\u001b[0;32m-> 1552\u001b[0;31m       outputs = execute.execute(\n\u001b[0m\u001b[1;32m   1553\u001b[0m           \u001b[0mname\u001b[0m\u001b[0;34m.\u001b[0m\u001b[0mdecode\u001b[0m\u001b[0;34m(\u001b[0m\u001b[0;34m\"utf-8\"\u001b[0m\u001b[0;34m)\u001b[0m\u001b[0;34m,\u001b[0m\u001b[0;34m\u001b[0m\u001b[0;34m\u001b[0m\u001b[0m\n\u001b[1;32m   1554\u001b[0m           \u001b[0mnum_outputs\u001b[0m\u001b[0;34m=\u001b[0m\u001b[0mnum_outputs\u001b[0m\u001b[0;34m,\u001b[0m\u001b[0;34m\u001b[0m\u001b[0;34m\u001b[0m\u001b[0m\n",
            "\u001b[0;32m/usr/local/lib/python3.10/dist-packages/tensorflow/python/eager/execute.py\u001b[0m in \u001b[0;36mquick_execute\u001b[0;34m(op_name, num_outputs, inputs, attrs, ctx, name)\u001b[0m\n\u001b[1;32m     51\u001b[0m   \u001b[0;32mtry\u001b[0m\u001b[0;34m:\u001b[0m\u001b[0;34m\u001b[0m\u001b[0;34m\u001b[0m\u001b[0m\n\u001b[1;32m     52\u001b[0m     \u001b[0mctx\u001b[0m\u001b[0;34m.\u001b[0m\u001b[0mensure_initialized\u001b[0m\u001b[0;34m(\u001b[0m\u001b[0;34m)\u001b[0m\u001b[0;34m\u001b[0m\u001b[0;34m\u001b[0m\u001b[0m\n\u001b[0;32m---> 53\u001b[0;31m     tensors = pywrap_tfe.TFE_Py_Execute(ctx._handle, device_name, op_name,\n\u001b[0m\u001b[1;32m     54\u001b[0m                                         inputs, attrs, num_outputs)\n\u001b[1;32m     55\u001b[0m   \u001b[0;32mexcept\u001b[0m \u001b[0mcore\u001b[0m\u001b[0;34m.\u001b[0m\u001b[0m_NotOkStatusException\u001b[0m \u001b[0;32mas\u001b[0m \u001b[0me\u001b[0m\u001b[0;34m:\u001b[0m\u001b[0;34m\u001b[0m\u001b[0;34m\u001b[0m\u001b[0m\n",
            "\u001b[0;31mKeyboardInterrupt\u001b[0m: "
          ]
        }
      ],
      "source": [
        "fashion_train = fashion_model.fit(train_X, train_label,callbacks=callbacks, batch_size=batch_size, epochs=epochs,verbose=1, validation_data=(valid_X,valid_label))"
      ]
    },
    {
      "cell_type": "code",
      "execution_count": null,
      "metadata": {
        "id": "zE5PMeutIzJA"
      },
      "outputs": [],
      "source": [
        "test_eval = fashion_model.evaluate(test_X, test_Y_one_hot, verbose=1)"
      ]
    },
    {
      "cell_type": "code",
      "execution_count": null,
      "metadata": {
        "id": "o31dST3-IzNc"
      },
      "outputs": [],
      "source": [
        "print('Test loss:', test_eval[0])\n",
        "print('Test accuracy:', test_eval[1])"
      ]
    },
    {
      "cell_type": "code",
      "execution_count": null,
      "metadata": {
        "id": "Tnz7DJ2fsAkF"
      },
      "outputs": [],
      "source": [
        "# Configurando o layout de subplots (1 linha, 2 colunas)\n",
        "fig, axes = plt.subplots(1, 2, figsize=(8, 3))  # Aumentado o tamanho da figura\n",
        "\n",
        "# Certifique-se de que fashion_train.history está definido\n",
        "accuracy = fashion_train.history['accuracy']\n",
        "val_accuracy = fashion_train.history['val_accuracy']\n",
        "loss = fashion_train.history['loss']\n",
        "val_loss = fashion_train.history['val_loss']\n",
        "epochs = range(len(accuracy))\n",
        "\n",
        "# Gráfico de precisão\n",
        "axes[0].plot(epochs, accuracy, 'bo', label='Training accuracy')\n",
        "axes[0].plot(epochs, val_accuracy, 'b', label='Validation accuracy')\n",
        "axes[0].set_title('Training and Validation Accuracy', fontsize=16)  # Tamanho maior do título\n",
        "axes[0].set_xlabel('Epochs', fontsize=14)  # Rótulo do eixo X\n",
        "axes[0].set_ylabel('Accuracy', fontsize=14)  # Rótulo do eixo Y\n",
        "axes[0].legend(fontsize=12)  # Tamanho maior da legenda\n",
        "\n",
        "# Gráfico de perda\n",
        "axes[1].plot(epochs, loss, 'bo', label='Training loss')\n",
        "axes[1].plot(epochs, val_loss, 'b', label='Validation loss')\n",
        "axes[1].set_title('Training and Validation Loss', fontsize=16)  # Tamanho maior do título\n",
        "axes[1].set_xlabel('Epochs', fontsize=14)  # Rótulo do eixo X\n",
        "axes[1].set_ylabel('Loss', fontsize=14)  # Rótulo do eixo Y\n",
        "axes[1].legend(fontsize=12)  # Tamanho maior da legenda\n",
        "\n",
        "# Ajusta o layout automaticamente\n",
        "plt.tight_layout()\n",
        "plt.show()"
      ]
    },
    {
      "cell_type": "code",
      "execution_count": null,
      "metadata": {
        "id": "j0FmSzdr4hwX"
      },
      "outputs": [],
      "source": [
        "import matplotlib.pyplot as plt\n",
        "import matplotlib.patches as mpatches\n",
        "\n",
        "def draw_cnn_structure():\n",
        "    # Definição dos layers e suas cores\n",
        "    layers = [\n",
        "        (\"Type of Layer (Output Shape)\", \"gray\"),\n",
        "        (\"Convolutional Layer - [37x37x265]\", \"lightgreen\"),\n",
        "        #(\"Activation Layer LeakyReLU - [37x37x265]\", \"lightgreen\"),\n",
        "        (\"Max Pooling Layer - [13x13x265]\", \"lightgreen\"),\n",
        "        (\"Dropout Layer - [13x13x265]\", \"lightgreen\"),\n",
        "        (\"Convolutional Layer - [13x13x128]\", \"lightblue\"),\n",
        "        #(\"Activation Layer LeakyReLU - [13x13x128]\", \"lightblue\"),\n",
        "        (\"Max Pooling Layer - [5x5x128]\", \"lightblue\"),\n",
        "        (\"Dropout Layer - [5x5x128]\", \"lightblue\"),\n",
        "        (\"Convolutional Layer - [5x5x128]\", \"lightyellow\"),\n",
        "        #(\"Activation Layer LeakyReLU - [5x5x128]\", \"lightyellow\"),\n",
        "        (\"Max Pooling Layer - [3x3x128]\", \"lightyellow\"),\n",
        "        (\"Dropout Layer - [3x3x128]\", \"lightyellow\"),\n",
        "\n",
        "        (\"Flatten - [1152]\", \"peachpuff\"),\n",
        "        (\"Dense Layer - [128]\", \"plum\"),\n",
        "        #(\"Activation Layer LeakyReLU - [128]\", \"plum\"),\n",
        "        (\"Dropout Layer - [128]\", \"plum\"),\n",
        "        (\"Dense Layer - [128]\", \"plum\"),\n",
        "        (\"Predicted Results\", \"gray\"),\n",
        "    ]\n",
        "\n",
        " # Configuração da figura\n",
        "    fig, ax = plt.subplots(figsize=(6, 6))\n",
        "\n",
        "    # Coordenadas para os retângulos\n",
        "    y = len(layers) * 2\n",
        "\n",
        "    for layer, color in layers:\n",
        "        rect = mpatches.FancyBboxPatch((0, y), 10, 1.5, boxstyle=\"round,pad=0.3\", edgecolor=\"black\", facecolor=color)\n",
        "        ax.add_patch(rect)\n",
        "        ax.text(5, y + 0.75, f\"**{layer}**\", ha=\"center\", va=\"center\", fontsize=12, fontweight=\"bold\", color=\"black\")\n",
        "\n",
        "        # Adiciona flecha apontando para baixo\n",
        "        if y > 2:\n",
        "            ax.arrow(5, y - 0.25, 0, -1.5, head_width=0.3, head_length=0.5, fc=\"black\", ec=\"black\")\n",
        "\n",
        "        y -= 2  # Decrementa a posição vertical\n",
        "\n",
        "    # Ajustes gerais\n",
        "    ax.set_xlim(-1, 12)\n",
        "    ax.set_ylim(-1, len(layers) * 2 + 2)\n",
        "    ax.axis('off')\n",
        "\n",
        "    # Exibir a figura\n",
        "    #plt.title(\"Convolutional Neural Network Structure\", fontsize=14, pad=20)\n",
        "    plt.show()\n",
        "\n",
        "# Chamar a função para desenhar\n",
        "draw_cnn_structure()\n",
        "\n"
      ]
    },
    {
      "cell_type": "code",
      "execution_count": null,
      "metadata": {
        "id": "g56mbwG11Ti9"
      },
      "outputs": [],
      "source": [
        "from graphviz import Digraph\n",
        "\n",
        "# Criando o fluxograma\n",
        "flowchart = Digraph(format='png')\n",
        "flowchart.attr(rankdir='TB', size='6,8')  # Compactando para Top to Bottom\n",
        "flowchart.attr('node', shape='box', style='bold', fontname='Arial', fontsize='34')  # Layers quadrados e texto em negrito\n",
        "flowchart.attr('edge', arrowhead='vee')  # Flechas retas com ponta clara\n",
        "\n",
        "# Adicionando os nós\n",
        "flowchart.node(\"Start\", \"Start\")\n",
        "flowchart.node(\"RSD\", \"Rotor Speed Database\")\n",
        "flowchart.node(\"PSD\", \"Power Spectral Density\")\n",
        "flowchart.node(\"FE1\", \"Features Extraction\")\n",
        "flowchart.node(\"FN\", \"Features Normalization\")\n",
        "flowchart.node(\"SMOTE_PSD\", \"SMOTE PSD\")\n",
        "flowchart.node(\"SMOTE_FE\", \"SMOTE Features\")\n",
        "flowchart.node(\"FE2\", \"Features Extraction\")\n",
        "flowchart.node(\"FD\", \"Final Database\")\n",
        "flowchart.node(\"GAF\", \"Gramian Angular Field\")\n",
        "flowchart.node(\"Split\", \"Split Train/Test/Validation\")\n",
        "flowchart.node(\"CNN\", \"Convolutional Neural Network\")\n",
        "flowchart.node(\"End\", \"End\")\n",
        "\n",
        "# Conectando os nós (estrutura ramificada)\n",
        "flowchart.edges([\n",
        "    (\"Start\", \"RSD\"),\n",
        "    (\"RSD\", \"PSD\"),\n",
        "    (\"RSD\", \"FE1\"),\n",
        "    (\"PSD\", \"SMOTE_PSD\"),\n",
        "    (\"FE1\", \"FN\"),\n",
        "    (\"SMOTE_PSD\", \"FE2\"),\n",
        "    (\"FN\", \"SMOTE_FE\"),\n",
        "    (\"SMOTE_PSD\", \"FD\"),\n",
        "    (\"FE2\", \"FD\"),\n",
        "    (\"SMOTE_FE\", \"FD\"),\n",
        "    (\"FD\", \"GAF\"),\n",
        "    (\"GAF\", \"Split\"),\n",
        "    (\"Split\", \"CNN\"),\n",
        "    (\"CNN\", \"End\")\n",
        "])\n",
        "\n",
        "# Renderizando e exibindo\n",
        "flowchart.render('flowchart')  # Salva como flowchart.png\n",
        "from IPython.display import Image\n",
        "Image(filename='flowchart.png')\n"
      ]
    },
    {
      "cell_type": "code",
      "source": [
        "import matplotlib.pyplot as plt\n",
        "\n",
        "# Criar figura e subplots\n",
        "fig, axes = plt.subplots(1, 3, figsize=(8, 4))  # 1 linha, 3 colunas\n",
        "\n",
        "# Primeiro gráfico\n",
        "for i in (0, 1, 2, 3, 4, 5, 18, 19, 20, 21, 22, 23):\n",
        "    axes[2].plot(x[i])\n",
        "axes[2].set_xlim(-1, 15)\n",
        "axes[2].set_ylim(-5.5, 5)\n",
        "axes[2].tick_params(axis='x', labelsize=18)\n",
        "axes[2].tick_params(axis='y', labelsize=18)\n",
        "axes[2].set_title(\"Gráfico C\", fontsize=18)\n",
        "\n",
        "# Segundo gráfico\n",
        "for i in (0, 1, 2, 3, 4, 5):\n",
        "    axes[0].plot(x[i])\n",
        "axes[0].set_xlim(-1, 15)\n",
        "axes[0].set_ylim(-5.5, 5)\n",
        "axes[0].tick_params(axis='x', labelsize=18)\n",
        "axes[0].tick_params(axis='y', labelsize=18)\n",
        "axes[0].set_title(\"Gráfico A\", fontsize=18)\n",
        "\n",
        "# Terceiro gráfico\n",
        "for i in (18, 19, 20, 21, 22, 23):\n",
        "    axes[1].plot(x[i])\n",
        "axes[1].set_xlim(-1, 15)\n",
        "axes[1].set_ylim(-5.5, 5)\n",
        "axes[1].tick_params(axis='x', labelsize=18)\n",
        "axes[1].tick_params(axis='y', labelsize=18)\n",
        "axes[1].set_title(\"Gráfico B\", fontsize=18)\n",
        "\n",
        "# Ajustar layout\n",
        "plt.tight_layout()\n",
        "plt.show()\n"
      ],
      "metadata": {
        "id": "mhzrr9OOM6qI"
      },
      "execution_count": null,
      "outputs": []
    }
  ],
  "metadata": {
    "colab": {
      "provenance": [],
      "authorship_tag": "ABX9TyMGPz8guR0TYm8WELWposfw",
      "include_colab_link": true
    },
    "kernelspec": {
      "display_name": "Python 3",
      "name": "python3"
    },
    "language_info": {
      "name": "python"
    }
  },
  "nbformat": 4,
  "nbformat_minor": 0
}