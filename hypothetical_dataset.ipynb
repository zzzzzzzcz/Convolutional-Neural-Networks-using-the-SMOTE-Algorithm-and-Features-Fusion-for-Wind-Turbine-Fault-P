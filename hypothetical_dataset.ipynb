{
  "cells": [
    {
      "cell_type": "markdown",
      "metadata": {
        "id": "view-in-github",
        "colab_type": "text"
      },
      "source": [
        "<a href=\"https://colab.research.google.com/github/zzzzzzzcz/Convolutional-Neural-Networks-using-the-SMOTE-Algorithm-and-Features-Fusion-for-Wind-Turbine-Fault-P/blob/main/hypothetical_dataset.ipynb\" target=\"_parent\"><img src=\"https://colab.research.google.com/assets/colab-badge.svg\" alt=\"Open In Colab\"/></a>"
      ]
    },
    {
      "cell_type": "code",
      "execution_count": null,
      "metadata": {
        "colab": {
          "background_save": true
        },
        "id": "mhzrr9OOM6qI"
      },
      "outputs": [],
      "source": [
        "import matplotlib.pyplot as plt\n",
        "\n",
        "# Criar figura e subplots\n",
        "fig, axes = plt.subplots(1, 3, figsize=(8, 4))  # 1 linha, 3 colunas\n",
        "\n",
        "# Primeiro gráfico\n",
        "for i in (0, 1, 2, 3, 4, 5, 18, 19, 20, 21, 22, 23):\n",
        "    axes[2].plot(x[i])\n",
        "axes[2].set_xlim(-1, 15)\n",
        "axes[2].set_ylim(-5.5, 5)\n",
        "axes[2].tick_params(axis='x', labelsize=18)\n",
        "axes[2].tick_params(axis='y', labelsize=18)\n",
        "axes[2].set_title(\"Gráfico C\", fontsize=18)\n",
        "\n",
        "# Segundo gráfico\n",
        "for i in (0, 1, 2, 3, 4, 5):\n",
        "    axes[0].plot(x[i])\n",
        "axes[0].set_xlim(-1, 15)\n",
        "axes[0].set_ylim(-5.5, 5)\n",
        "axes[0].tick_params(axis='x', labelsize=18)\n",
        "axes[0].tick_params(axis='y', labelsize=18)\n",
        "axes[0].set_title(\"Gráfico A\", fontsize=18)\n",
        "\n",
        "# Terceiro gráfico\n",
        "for i in (18, 19, 20, 21, 22, 23):\n",
        "    axes[1].plot(x[i])\n",
        "axes[1].set_xlim(-1, 15)\n",
        "axes[1].set_ylim(-5.5, 5)\n",
        "axes[1].tick_params(axis='x', labelsize=18)\n",
        "axes[1].tick_params(axis='y', labelsize=18)\n",
        "axes[1].set_title(\"Gráfico B\", fontsize=18)\n",
        "\n",
        "# Ajustar layout\n",
        "plt.tight_layout()\n",
        "plt.show()\n"
      ]
    }
  ],
  "metadata": {
    "colab": {
      "provenance": [],
      "authorship_tag": "ABX9TyMcL567Zac0WzuSVJehPAGf",
      "include_colab_link": true
    },
    "kernelspec": {
      "display_name": "Python 3",
      "name": "python3"
    },
    "language_info": {
      "name": "python"
    }
  },
  "nbformat": 4,
  "nbformat_minor": 0
}